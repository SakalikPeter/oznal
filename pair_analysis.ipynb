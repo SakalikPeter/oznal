{
 "metadata": {
  "language_info": {
   "codemirror_mode": {
    "name": "ipython",
    "version": 3
   },
   "file_extension": ".py",
   "mimetype": "text/x-python",
   "name": "python",
   "nbconvert_exporter": "python",
   "pygments_lexer": "ipython3",
   "version": "3.7.4-final"
  },
  "orig_nbformat": 2,
  "kernelspec": {
   "name": "python374jvsc74a57bd0d239f396a00a0993be849bdcdeca27a97b1d75ba89035ef6f69e8ae58644e387",
   "display_name": "Python 3.7.4 64-bit (conda)"
  }
 },
 "nbformat": 4,
 "nbformat_minor": 2,
 "cells": [
  {
   "cell_type": "code",
   "execution_count": null,
   "metadata": {},
   "outputs": [],
   "source": [
    "import pandas as pd\n",
    "import matplotlib.pyplot as plt\n",
    "import numpy as np\n",
    "import seaborn as sns\n",
    "from scipy import stats\n",
    "from statsmodels.graphics.gofplots import qqplot\n",
    "import pylab as py\n",
    "from scipy.stats import skew"
   ]
  },
  {
   "cell_type": "code",
   "execution_count": null,
   "metadata": {},
   "outputs": [],
   "source": [
    "data_train = pd.read_csv('dataset/airline_df.csv', index_col='Unnamed: 0')\n",
    "data_train.head()"
   ]
  },
  {
   "source": [
    "# Párová analýza\n",
    "## spojité - spojité\n",
    "V tejto časti vykonávame párovú analýzu na stĺpcoch Age, Departure Delay in Minutes, Arrival Delay in Minutes a Flight Distance. Hľadáme medzi nimi závislosť a koreláciu. Na pairplote je vidieť, že jediná korelácia je medzi atribútmi Departure Delay in Minutes a Arrival Delay in Minutes. Potvrdil to aj Pearsonov korelačný koeficient, ktorý pri nich dosiahol hodnotu 0.965481. To značí, že sa medzi nimi nachádza silná pozitívna korelácia. Medzi ostatnými kombináciami atribútov bol Pearsonov korelačný koeficient vždy blízko nule."
   ],
   "cell_type": "markdown",
   "metadata": {}
  },
  {
   "cell_type": "code",
   "execution_count": null,
   "metadata": {},
   "outputs": [],
   "source": [
    "columns = ['Age', 'Departure Delay in Minutes', 'Arrival Delay in Minutes', 'Flight Distance', 'satisfaction']\n",
    "continuous_data = data_train[columns]"
   ]
  },
  {
   "cell_type": "code",
   "execution_count": null,
   "metadata": {},
   "outputs": [],
   "source": [
    "sns.pairplot(continuous_data, hue='satisfaction')"
   ]
  },
  {
   "source": [
    "### Pearsonov korelačný koeficient"
   ],
   "cell_type": "markdown",
   "metadata": {}
  },
  {
   "cell_type": "code",
   "execution_count": null,
   "metadata": {},
   "outputs": [],
   "source": [
    "continuous_data.corr()"
   ]
  },
  {
   "cell_type": "code",
   "execution_count": null,
   "metadata": {},
   "outputs": [],
   "source": [
    "sns.scatterplot(continuous_data['Departure Delay in Minutes'], continuous_data['Arrival Delay in Minutes'], hue=continuous_data['satisfaction'])"
   ]
  },
  {
   "source": [
    "# Párová analýza\n",
    "## kategorické - spojité\n",
    "Pre tento typ párovej analýzy sme využili boxploty. Výsledné analýzy, nám prišli z pohľadu výsledkov ako najzaujímavejšie."
   ],
   "cell_type": "markdown",
   "metadata": {}
  },
  {
   "source": [
    "### Vplyv veku pasažiera na jeho spokojnosť\n",
    "\n",
    "Z grafu vyplýva, že vek pasažiera nemá vplyv na jeho spokojnosť s letom."
   ],
   "cell_type": "markdown",
   "metadata": {}
  },
  {
   "cell_type": "code",
   "execution_count": null,
   "metadata": {},
   "outputs": [],
   "source": [
    "sns.boxplot('satisfaction', 'Age', data=continuous_data)"
   ]
  },
  {
   "source": [
    "### Vplyv meškania odletu na spokojnosť pasažiera\n",
    "\n",
    "Z prvého grafu nie je jasne viditeľné, aký vplyv má meškanie odletu na spokojnosť. Preto sme sa rozhodli rozdeliť meškanie na dve časti, malé meškanie < 60 min a veľké meškanie >= 60 min. Z týchto grafov je jasnejšie, že meškanie odletu nemá veľký vplyv na spokojnosť pasažierov. "
   ],
   "cell_type": "markdown",
   "metadata": {}
  },
  {
   "cell_type": "code",
   "execution_count": null,
   "metadata": {},
   "outputs": [],
   "source": [
    "sns.boxplot('satisfaction', 'Departure Delay in Minutes', data=continuous_data)"
   ]
  },
  {
   "cell_type": "code",
   "execution_count": null,
   "metadata": {},
   "outputs": [],
   "source": [
    "small_delay = continuous_data[continuous_data['Departure Delay in Minutes'] < 60]\n",
    "sns.boxplot('satisfaction', 'Departure Delay in Minutes', data=small_delay)"
   ]
  },
  {
   "cell_type": "code",
   "execution_count": null,
   "metadata": {},
   "outputs": [],
   "source": [
    "big_delay = continuous_data[continuous_data['Departure Delay in Minutes'] >= 60]\n",
    "sns.boxplot('satisfaction', 'Departure Delay in Minutes', data=big_delay)"
   ]
  },
  {
   "source": [
    "### Vplyv meškania príletu na spokojnosť pasažiera\n",
    "\n",
    "Z grafu nie je jasne viditeľné, aký vplyv má meškanie príletu na spokojnosť. Preto sme sa rozhodli rozdeliť meškanie na dve časti, malé meškanie < 60 min a veľké meškanie >= 60 min. Z týchto grafov je jasnejšie, že meškanie príletu nemá veľký vplyv na spokojnosť pasažierov."
   ],
   "cell_type": "markdown",
   "metadata": {}
  },
  {
   "cell_type": "code",
   "execution_count": null,
   "metadata": {},
   "outputs": [],
   "source": [
    "sns.boxplot('satisfaction', 'Arrival Delay in Minutes', data=continuous_data)"
   ]
  },
  {
   "cell_type": "code",
   "execution_count": null,
   "metadata": {},
   "outputs": [],
   "source": [
    "small_delay = continuous_data[continuous_data['Arrival Delay in Minutes'] < 60]\n",
    "sns.boxplot('satisfaction', 'Arrival Delay in Minutes', data=small_delay)"
   ]
  },
  {
   "cell_type": "code",
   "execution_count": null,
   "metadata": {},
   "outputs": [],
   "source": [
    "small_delay = continuous_data[continuous_data['Arrival Delay in Minutes'] >= 60]\n",
    "sns.boxplot('satisfaction', 'Arrival Delay in Minutes', data=small_delay)"
   ]
  },
  {
   "source": [
    "### Vplyv dĺžky letu na spokojnosť pasažiera\n",
    "\n",
    "Z grafu vyplýva, že pri dlhších letoch býva viac pasažierov spokojných ako nespokojných. Väčšina nespokojných pasažierov absolvovala let, ktorý mal menej ako 1000 km. Takmer všetky lety od 1000 do 2500 km označili pasažieri ako uspokojivé."
   ],
   "cell_type": "markdown",
   "metadata": {}
  },
  {
   "cell_type": "code",
   "execution_count": null,
   "metadata": {},
   "outputs": [],
   "source": [
    "sns.boxplot('satisfaction', 'Flight Distance', data=continuous_data)"
   ]
  },
  {
   "source": [
    "# Párová analýza\n",
    "## kategorické - kategorické\n",
    "\n",
    "V tejto časti robíme párovú analýzu kategorických parametrov Customer type, Type of Travel, Class, Inflight Wifi Service, Ease of Online booking, Food and drink, Seat comfort, Inflight entertainment, Leg room service, Cleanliness.\n",
    "\n",
    "Pri atribúte Customer Type takmer 50% lojálnych zákazníkov uviedlo, že boli s letom spokojný. Rovnako však bolo zhruba 50% lojálnych zákazníkov nespokojných alebo neutrálnych. Pri dislojálnych zákazníkoch prevládal neutrálny alebo nespokojný názor.\n",
    "\n",
    "Pri atribúte Type of Travel prevládala u bussines travel spokojnosť, zatiaľ čo pri personal travel prevládala nespokojnosť.\n",
    "\n",
    "Pri atribúte Class pasažieri, ktorý cestovali bussines triedou boli väčšinou spokojný. Pri ECO a ECO plus triede boli pasažieri väčšinou nespokojný.\n",
    "\n",
    "Pri atribútoch Inflight Wifi Service, Ease of Online booking, Food and drink, Seat comfort, Inflight entertainment, Leg room service, Cleanliness sme pozorovali veľmi podobné správanie. Ak pasažieri ohodnotili danú službu 1-3, boli väčšinou nespokojný s letom. Ak ohodnotili službu 4-5, boli prevažne spokojný s letom."
   ],
   "cell_type": "markdown",
   "metadata": {}
  },
  {
   "cell_type": "code",
   "execution_count": null,
   "metadata": {},
   "outputs": [],
   "source": [
    "classification = pd.crosstab(index=data_train['Customer Type'], columns=data_train['satisfaction'])\n",
    "print(classification)\n",
    "sns.heatmap(classification, annot=True, fmt='.4f') "
   ]
  },
  {
   "cell_type": "code",
   "execution_count": null,
   "metadata": {},
   "outputs": [],
   "source": [
    "classification = pd.crosstab(index=data_train['Type of Travel'], columns=data_train['satisfaction'])\n",
    "print(classification)\n",
    "sns.heatmap(classification, annot=True, fmt='.4f')"
   ]
  },
  {
   "cell_type": "code",
   "execution_count": null,
   "metadata": {},
   "outputs": [],
   "source": [
    "classification = pd.crosstab(index=data_train['Class'], columns=data_train['satisfaction'])\n",
    "print(classification)\n",
    "sns.heatmap(classification, annot=True, fmt='.4f')"
   ]
  },
  {
   "cell_type": "code",
   "execution_count": null,
   "metadata": {},
   "outputs": [],
   "source": [
    "classification = pd.crosstab(index=data_train['Inflight wifi service'], columns=data_train['satisfaction'])\n",
    "print(classification)\n",
    "sns.heatmap(classification, annot=True, fmt='.4f')"
   ]
  },
  {
   "cell_type": "code",
   "execution_count": null,
   "metadata": {},
   "outputs": [],
   "source": [
    "classification = pd.crosstab(index=data_train['Ease of Online booking'], columns=data_train['satisfaction'])\n",
    "print(classification)\n",
    "sns.heatmap(classification, annot=True, fmt='.4f')"
   ]
  },
  {
   "cell_type": "code",
   "execution_count": null,
   "metadata": {},
   "outputs": [],
   "source": [
    "classification = pd.crosstab(index=data_train['Food and drink'], columns=data_train['satisfaction'])\n",
    "print(classification)\n",
    "sns.heatmap(classification, annot=True, fmt='.4f')"
   ]
  },
  {
   "cell_type": "code",
   "execution_count": null,
   "metadata": {},
   "outputs": [],
   "source": [
    "classification = pd.crosstab(index=data_train['Seat comfort'], columns=data_train['satisfaction'])\n",
    "print(classification)\n",
    "sns.heatmap(classification, annot=True, fmt='.4f')"
   ]
  },
  {
   "cell_type": "code",
   "execution_count": null,
   "metadata": {},
   "outputs": [],
   "source": [
    "classification = pd.crosstab(index=data_train['Inflight entertainment'], columns=data_train['satisfaction'])\n",
    "print(classification)\n",
    "sns.heatmap(classification, annot=True, fmt='.4f')"
   ]
  },
  {
   "cell_type": "code",
   "execution_count": null,
   "metadata": {},
   "outputs": [],
   "source": [
    "classification = pd.crosstab(index=data_train['Leg room service'], columns=data_train['satisfaction'])\n",
    "print(classification)\n",
    "sns.heatmap(classification, annot=True, fmt='.4f')"
   ]
  },
  {
   "cell_type": "code",
   "execution_count": null,
   "metadata": {},
   "outputs": [],
   "source": [
    "classification = pd.crosstab(index=data_train['Cleanliness'], columns=data_train['satisfaction'])\n",
    "print(classification)\n",
    "sns.heatmap(classification, annot=True, fmt='.4f')"
   ]
  },
  {
   "cell_type": "code",
   "execution_count": null,
   "metadata": {},
   "outputs": [],
   "source": []
  }
 ]
}