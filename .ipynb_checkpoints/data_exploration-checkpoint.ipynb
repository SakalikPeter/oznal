{
 "cells": [
  {
   "cell_type": "code",
   "execution_count": null,
   "metadata": {},
   "outputs": [],
   "source": [
    "import pandas as pd\n",
    "import matplotlib.pyplot as plt\n",
    "import numpy as np\n",
    "import seaborn as sns\n",
    "from scipy import stats\n",
    "from statsmodels.graphics.gofplots import qqplot\n",
    "import pylab as py\n",
    "from scipy.stats import skew"
   ]
  },
  {
   "cell_type": "markdown",
   "metadata": {},
   "source": [
    "\n",
    "# Opis datasetu\n",
    "\n",
    "Tento dataset obsahuje prieskum spokojnosti pasažierov leteckých liniek. Obsahuje 103 904 riadkov a 24 atribútov. Atribúty sú obsahujú typ kategorický, ordinálny a spojitý.\n",
    "\n",
    "## Opis stĺpcov\n",
    "\n",
    "Gender: Pohlavie pasažiera (Female, Male)\n",
    "\n",
    "Customer Type: Typ zákazníka (Loyal customer, disloyal customer)\n",
    "\n",
    "Age: Vek pasažiera\n",
    "\n",
    "Type of Travel: Dôvod cesty (Personal Travel, Business Travel)\n",
    "\n",
    "Class: Trieda  (Business, Eco, Eco Plus)\n",
    "\n",
    "Flight distance: Dĺžka letu\n",
    "\n",
    "Inflight wifi service: Spokojnosť s dostupnosťou wi-fi siete (0-5)\n",
    "\n",
    "Departure/Arrival time convenient: Spokojnosť s časom odletu/príletu (0-5)\n",
    "\n",
    "Ease of Online booking: Spokojnosť s jednoduchosťou online bookingu letu (0-5)\n",
    "\n",
    "Gate location: Spokojnosť s umiestnením nástupnej brány (0-5)\n",
    "\n",
    "Food and drink: Spokojnosť s jedlom a pitím (0-5)\n",
    "\n",
    "Online boarding: Spokojnosť s online boardingom (0-5)\n",
    "\n",
    "Seat comfort: Spokojnosť s pohodlnosťou sedadla (0-5)\n",
    "\n",
    "Inflight entertainment: Spokojnosť so zábavou počas letu (0-5)\n",
    "\n",
    "On-board service: Spokojnosť so servisom na palube lietadla (0-5)\n",
    "\n",
    "Leg room service: Spokojnosť s miestom na nohy (0-5)\n",
    "\n",
    "Baggage handling: Spokojnosť s manipuláciou s batožinou (0-5)\n",
    "\n",
    "Check-in service: Spokojnosť s check-inom (0-5)\n",
    "\n",
    "Inflight service: Spokojnosť so servisom počas letu (0-5)\n",
    "\n",
    "Cleanliness: Spokojnosť s čistotou (0-5)\n",
    "\n",
    "Departure Delay in Minutes: Meškanie odletu v minútach\n",
    "\n",
    "Arrival Delay in Minutes: Meškanie príletu v minútach\n",
    "\n",
    "Satisfaction: Spokojnosť zákazníka(Satisfaction, neutral or dissatisfaction)"
   ]
  },
  {
   "cell_type": "code",
   "execution_count": null,
   "metadata": {},
   "outputs": [],
   "source": [
    "data_train = pd.read_csv('dataset/airline_df.csv', index_col='Unnamed: 0')\n",
    "data_train.head()"
   ]
  },
  {
   "cell_type": "markdown",
   "metadata": {},
   "source": [
    "V datasete sa nachádza 18 stĺpcov s integer hodnotami, 4 stĺpce s object hodnotou a 1 stĺpec s hodnotou float."
   ]
  },
  {
   "cell_type": "code",
   "execution_count": null,
   "metadata": {},
   "outputs": [],
   "source": [
    "data_train.dtypes"
   ]
  },
  {
   "cell_type": "markdown",
   "metadata": {},
   "source": [
    "# Kategorické dáta"
   ]
  },
  {
   "cell_type": "code",
   "execution_count": null,
   "metadata": {},
   "outputs": [],
   "source": [
    "for col in data_train.columns:\n",
    "    if data_train[col].dtypes == 'object':\n",
    "        print(f\"{col}: {data_train[col].unique()}\")"
   ]
  },
  {
   "cell_type": "markdown",
   "metadata": {},
   "source": [
    "### Gender\n",
    "Stĺpec \"Gender\" pozostáva z dvoch unikátnych hodnôt \"Female\" a \"Male\". Z grafu je vidno, že dáta v tomto stĺpci sú vyvážené. Počet \"Female\" záznamov je 52 727 (51%) a \"Male\" je 51 177 (49%). "
   ]
  },
  {
   "cell_type": "code",
   "execution_count": null,
   "metadata": {},
   "outputs": [],
   "source": [
    "n_female = len(data_train[data_train[\"Gender\"] == 'Female'])\n",
    "n_male = len(data_train[data_train[\"Gender\"] == 'Male'])\n",
    "\n",
    "print(f\"Number of females: {n_female}, {round(n_female/(n_female+n_male), 2)*100}%\")\n",
    "print(f\"Number of males: {n_male}, {round(n_male/(n_female+n_male), 2)*100}%\")\n",
    "\n",
    "data_train[\"Gender\"].value_counts().plot(kind='bar')"
   ]
  },
  {
   "cell_type": "markdown",
   "metadata": {},
   "source": [
    "### Customer Type\n",
    "Stĺpec \"Customer Type\" pozostáva z dvoch uniukátnych hodnôt \"Loyal Customer\" a \"disloyal Customer\". Z grafu je vidno, že dáta v tomto stĺpci sú výrazne nevyvážené. Prevažuje \"Loyal Customer\" s počtom výskytov 84 923 (82%). Pričom \"Loyal Customer\" má len 18 981 (18%)."
   ]
  },
  {
   "cell_type": "code",
   "execution_count": null,
   "metadata": {},
   "outputs": [],
   "source": [
    "n_loyal = len(data_train[data_train[\"Customer Type\"] == 'Loyal Customer'])\n",
    "n_disloyal = len(data_train[data_train[\"Customer Type\"] == 'disloyal Customer'])\n",
    "\n",
    "print(f\"Number of loyal customer: {n_loyal}, {round(n_loyal/(n_loyal+n_disloyal), 2)*100}%\")\n",
    "print(f\"Number of disloyal customers: {n_disloyal}, {round(n_disloyal/(n_loyal+n_disloyal), 2)*100}%\")\n",
    "\n",
    "data_train[\"Customer Type\"].value_counts().plot(kind='bar')"
   ]
  },
  {
   "cell_type": "markdown",
   "metadata": {},
   "source": [
    "### Type of Travel\n",
    "Stĺpec \"Type of Travel\" pozostáva z dvoch unikátnych hodnôt \"Business travel\" a \"Personal Travel\". Počet riadko s hodnotou \"Business travel\" je 71 655 (69%) a s hodnotou \"Personal Travel\" je 32 249 (31%). Ako môžeme vidieť na grafe nižšie, dáta v tomto stĺpci sú nevyvážené. Avšak nie až tak výrazne ako v prípade stĺpca \"Customer type\"."
   ]
  },
  {
   "cell_type": "code",
   "execution_count": null,
   "metadata": {},
   "outputs": [],
   "source": [
    "n_business = len(data_train[data_train[\"Type of Travel\"] == 'Business travel'])\n",
    "n_personal = len(data_train[data_train[\"Type of Travel\"] == 'Personal Travel'])\n",
    "\n",
    "print(f\"Number of business travels: {n_business}, {round(n_business/(n_business+n_personal), 2)*100}%\")\n",
    "print(f\"Number of personal travel: {n_personal}, {round(n_personal/(n_business+n_personal), 2)*100}%\")\n",
    "\n",
    "data_train[\"Type of Travel\"].value_counts().plot(kind='bar')"
   ]
  },
  {
   "cell_type": "markdown",
   "metadata": {},
   "source": [
    "### Class\n",
    "Stĺpec \"Class\" pozostáva z troch unikátnych hodnôt \"Business\", \"Eco\" a \"Eco Plus\". Počet riadkov s hodnotou \"Business\" je 49 665 (48%), \"Eco\" je 46 745 (45%) a \"Eco Plus\" je 7 494 (7%). Na grafe nižšie môžeme vidieť že počet riadkov s hodnotami \"Business\" a \"Eco\" je celkom vyrovnaný. Avšak počet riadkov s hodnotou \"Eco Plus\" je oveľa menší."
   ]
  },
  {
   "cell_type": "code",
   "execution_count": null,
   "metadata": {},
   "outputs": [],
   "source": [
    "n_business = len(data_train[data_train[\"Class\"] == 'Business'])\n",
    "n_eco = len(data_train[data_train[\"Class\"] == 'Eco'])\n",
    "n_eco_plus = len(data_train[data_train[\"Class\"] == 'Eco Plus'])\n",
    "\n",
    "print(f\"Number of business class: {n_business}, {round(n_business/(n_business+n_eco+n_eco_plus), 2)*100}%\")\n",
    "print(f\"Number of eco class: {n_eco}, {round(n_eco/(n_business+n_eco+n_eco_plus), 2)*100}%\")\n",
    "print(f\"Number of eco plus class: {n_eco_plus}, {round(n_eco_plus/(n_business+n_eco+n_eco_plus), 2)*100}%\")\n",
    "\n",
    "data_train[\"Class\"].value_counts().plot(kind='bar')"
   ]
  },
  {
   "cell_type": "markdown",
   "metadata": {},
   "source": [
    "### satisfaction\n",
    "Stĺpec \"satisfaction\" pozostáva z dvoch unikátnyc hodnôt \"neutral or dissatisfied\" and \"satisfied\". Počet riadkov s hodnotou \"neutral or dissatisfied\" je 58 879 (57%) a s hodnotou \"satisfied\" je 45 025 (43%). Jedná sa o target values, ktoré budeme predikovať."
   ]
  },
  {
   "cell_type": "code",
   "execution_count": null,
   "metadata": {},
   "outputs": [],
   "source": [
    "n_dissatisfied = len(data_train[data_train[\"satisfaction\"] == 'neutral or dissatisfied'])\n",
    "n_satisfied = len(data_train[data_train[\"satisfaction\"] == 'satisfied'])\n",
    "\n",
    "print(f\"Number of neutral or dissatisfied: {n_dissatisfied}, {round(n_dissatisfied/(n_dissatisfied+n_satisfied), 2)*100}%\")\n",
    "print(f\"Number of satisfied: {n_satisfied}, {round(n_satisfied/(n_dissatisfied+n_satisfied), 2)*100}%\")\n",
    "\n",
    "data_train[\"satisfaction\"].value_counts().plot(kind='bar')"
   ]
  },
  {
   "cell_type": "markdown",
   "metadata": {},
   "source": [
    "## Ordinálne stĺpce\n",
    "V nasledujúcej časti sa nachádzajú stĺpcové grafy znázorňujúce početnosť jednotlivých hodnotení danej otázky. Oborom hodnôt je {0, 1, 2, 3, 4, 5}. 5 znamená, že pasažier bol maximálne spokojný. 1 znamená najmenšiu možnú spokojnoť. 0 znamená, že sa pasažier nevyjadril."
   ]
  },
  {
   "cell_type": "markdown",
   "metadata": {},
   "source": [
    "### Inflight wifi service\n",
    "Stĺpec reprezentuje službu wifi počas trvania letu. Na bar a pie grafe je znázornené, že najčastejšia hodnota je číslo 3. Tesne za ňou nasleduje 2. Najmenej frekventovaná odpoveď mala hodnotu 5, ak nepočítame hodnotu 0. Rozdelenie dát histogramu pripomína Gaussovú krivku s naklonením do ľavej strany. Hodnota Shapiro-Wilkov testu je 6.985e-05 a skewness 0.04.\n",
    "  \n",
    "3 = 25 868 (25%)  \n",
    "2 = 25 830 (25%)  \n",
    "4 = 19 794 (19%)  \n",
    "1 = 17 840 (17%)  \n",
    "5 = 11 469 (11%)  \n",
    "0 = 3 103 (3%)  \n",
    "  \n",
    "Stredné hodnoty:  \n",
    "Median = 3  \n",
    "Modus = 3  \n",
    "Priemer = 2.72"
   ]
  },
  {
   "cell_type": "code",
   "execution_count": null,
   "metadata": {},
   "outputs": [],
   "source": [
    "data_train[\"Inflight wifi service\"].value_counts().sort_index().plot(kind='bar')"
   ]
  },
  {
   "cell_type": "markdown",
   "metadata": {},
   "source": [
    "### Departure/Arrival time convenient\n",
    "Stĺpec reprezentuje vhodný čas odletu/príletu. Na bar a pie grafe je znázornené, že najčastejšia hodnota je číslo 4. Za ňou nasleduje 5. Najmenej frekventovaná odpoveď mala hodnotu 1, ak nepočítame hodnotu 0. Rozdelenie dát histogramu je naklonené do pravej strany. Hodnota Shapiro-Wilkov testu je 2.94e-06 a skewness -0.33.\n",
    "  \n",
    "4 = 25 546 (25%)  \n",
    "5 = 22 403 (22%)  \n",
    "3 = 17 966 (17%)  \n",
    "2 = 17 191 (17%)  \n",
    "1 = 15 498 (15%)  \n",
    "0 = 5 300 (5%)  \n",
    "  \n",
    "Stredné hodnoty:  \n",
    "Median = 3  \n",
    "Modus = 3  \n",
    "Priemer = 3.06"
   ]
  },
  {
   "cell_type": "code",
   "execution_count": null,
   "metadata": {},
   "outputs": [],
   "source": [
    "data_train[\"Departure/Arrival time convenient\"].value_counts().sort_index().plot(kind='bar')"
   ]
  },
  {
   "cell_type": "markdown",
   "metadata": {},
   "source": [
    "### Ease of Online booking\n",
    "Stĺpec reprezentuje jednoduchosť online rezervovania. Na bar a pie grafe je znázornené, že najčastejšia hodnota je číslo 3. Tesne za ňou nasleduje 2. Najmenej frekventovaná odpoveď mala hodnotu 5, ak nepočítame hodnotu 0. Rozdelenie dát histogramu pripomína Gaussovú krivku s naklonením do pravej strany. Hodnota Shapiro-Wilkov testu je 6.22e-05 a skewness -0.018.\n",
    "  \n",
    "3 = 24 449 (24%)  \n",
    "2 = 24 021 (23%)  \n",
    "4 = 19 571 (19%)  \n",
    "1 = 17 525 (17%)  \n",
    "5 = 13 851 (13%)  \n",
    "0 = 4 487 (4%)  \n",
    "  \n",
    "Stredné hodnoty:  \n",
    "Median = 3  \n",
    "Modus = 3  \n",
    "Priemer = 2.75"
   ]
  },
  {
   "cell_type": "code",
   "execution_count": null,
   "metadata": {},
   "outputs": [],
   "source": [
    "data_train[\"Ease of Online booking\"].value_counts().sort_index().plot(kind='bar')"
   ]
  },
  {
   "cell_type": "markdown",
   "metadata": {},
   "source": [
    "### Gate location\n",
    "Stĺpec reprezentuje umiestnenie odletovej brány. Na bar a pie grafe je znázornené, že najčastejšia hodnota je číslo 3. Tesne za ňou nasleduje 2. Najmenej frekventovaná odpoveď mala hodnotu 5, ak nepočítame hodnotu 0. Rozdelenie dát histogramu je naklonené do pravej strany. Hodnota Shapiro-Wilkov testu je 2.59e-06 a skewness -0.058.\n",
    "  \n",
    "3 = 28 577 (28%)  \n",
    "4 = 24 426 (24%)  \n",
    "2 = 19 459 (19%)  \n",
    "1 = 17 562 (17%)  \n",
    "5 = 13 879 (13%)  \n",
    "0 = 1 (<1%)  \n",
    "  \n",
    "Stredné hodnoty:  \n",
    "Median = 3  \n",
    "Modus = 3  \n",
    "Priemer = 2.97"
   ]
  },
  {
   "cell_type": "code",
   "execution_count": null,
   "metadata": {},
   "outputs": [],
   "source": [
    "data_train[\"Gate location\"].value_counts().sort_index().plot(kind='bar')"
   ]
  },
  {
   "cell_type": "markdown",
   "metadata": {},
   "source": [
    "### Food and drink\n",
    "Stĺpec reprezentuje jedlo a nápoje. Na bar a pie grafe je znázornené, že najčastejšia hodnota je číslo 4. Za ňou nasleduje 5. Najmenej frekventovaná odpoveď mala hodnotu 1, ak nepočítame hodnotu 0. Rozdelenie dát histogramu je naklonené do pravej strany. Hodnota Shapiro-Wilkov testu je 2.74e-07 a skewness -0.151.\n",
    "  \n",
    "4 = 24 359 (23%)  \n",
    "5 = 22 313 (21%)  \n",
    "3 = 22 300 (21%)  \n",
    "2 = 21 988 (21%)  \n",
    "1 = 12 837 (12%)  \n",
    "0 = 107 (<1%)  \n",
    "  \n",
    "Stredné hodnoty:  \n",
    "Median = 3  \n",
    "Modus = 4  \n",
    "Priemer = 3.2"
   ]
  },
  {
   "cell_type": "code",
   "execution_count": null,
   "metadata": {},
   "outputs": [],
   "source": [
    "data_train[\"Food and drink\"].value_counts().sort_index().plot(kind='bar')"
   ]
  },
  {
   "cell_type": "markdown",
   "metadata": {},
   "source": [
    "### Online boarding\n",
    "Stĺpec reprezentuje online nastupovanie. Na bar a pie grafe je znázornené, že najčastejšia hodnota je číslo 4. Za ňou nasleduje 3. Najmenej frekventovaná odpoveď mala hodnotu 1, ak nepočítame hodnotu 0. Rozdelenie dát histogramu je naklonené do pravej strany. Hodnota Shapiro-Wilkov testu je 5.37e-06 a skewness -0.453.\n",
    "\n",
    "4 = 30 762 (30%)  \n",
    "3 = 21 804 (21%)  \n",
    "5 = 20 713 (20%)  \n",
    "2 = 17 505 (17%)  \n",
    "1 = 10 692 (10%)  \n",
    "0 = 2 428 (2%)  \n",
    "  \n",
    "Stredné hodnoty:  \n",
    "Median = 3  \n",
    "Modus = 4  \n",
    "Priemer = 3.25"
   ]
  },
  {
   "cell_type": "code",
   "execution_count": null,
   "metadata": {},
   "outputs": [],
   "source": [
    "data_train[\"Online boarding\"].value_counts().sort_index().plot(kind='bar')"
   ]
  },
  {
   "cell_type": "markdown",
   "metadata": {},
   "source": [
    "### Seat comfort\n",
    "Stĺpec reprezentuje pohodlnosť sedačiek. Na bar a pie grafe je znázornené, že najčastejšia hodnota je číslo 4. Za ňou nasleduje 5. Najmenej frekventovaná odpoveď mala hodnotu 1, ak nepočítame hodnotu 0. Rozdelenie dát histogramu je naklonené do pravej strany. Hodnota Shapiro-Wilkov testu je 2.28e-08 a skewness -0.482.\n",
    "\n",
    "4 = 31 765 (31%)  \n",
    "5 = 26 470 (25%)  \n",
    "3 = 18 696 (18%)  \n",
    "2 = 14 897 (14%)  \n",
    "1 = 12 075 (12%)  \n",
    "0 = 1 (<1%)  \n",
    "  \n",
    "Stredné hodnoty:  \n",
    "Median = 4  \n",
    "Modus = 4  \n",
    "Priemer = 3.43"
   ]
  },
  {
   "cell_type": "code",
   "execution_count": null,
   "metadata": {},
   "outputs": [],
   "source": [
    "data_train[\"Seat comfort\"].value_counts().sort_index().plot(kind='bar')"
   ]
  },
  {
   "cell_type": "markdown",
   "metadata": {},
   "source": [
    "### Inflight entertainment\n",
    "Stĺpec reprezentuje zábavu počas letu. Na bar a pie grafe je znázornené, že najčastejšia hodnota je číslo 4. Za ňou nasleduje 5. Najmenej frekventovaná odpoveď mala hodnotu 1, ak nepočítame hodnotu 0. Rozdelenie dát histogramu je naklonené do pravej strany. Hodnota Shapiro-Wilkov testu je 2.39e-08 a skewness -0.365.\n",
    "\n",
    "4 = 29 423 (28%)  \n",
    "5 = 25 213 (24%)  \n",
    "3 = 19 139 (18%)  \n",
    "2 = 17 637 (17%)  \n",
    "1 = 12 478 (12%)  \n",
    "0 = 14 (<1%)  \n",
    "  \n",
    "Stredné hodnoty:  \n",
    "Median = 4  \n",
    "Modus = 4  \n",
    "Priemer = 3.35"
   ]
  },
  {
   "cell_type": "code",
   "execution_count": null,
   "metadata": {},
   "outputs": [],
   "source": [
    "data_train[\"Inflight entertainment\"].value_counts().sort_index().plot(kind='bar')"
   ]
  },
  {
   "cell_type": "markdown",
   "metadata": {},
   "source": [
    "### On-board service\n",
    "Stĺpec reprezentuje palubný servis. Na bar a pie grafe je znázornené, že najčastejšia hodnota je číslo 4. Za ňou nasleduje 5. Najmenej frekventovaná odpoveď mala hodnotu 1, ak nepočítame hodnotu 0. Rozdelenie dát histogramu je naklonené do pravej strany. Hodnota Shapiro-Wilkov testu je 5.14e-07 a skewness -0.42.\n",
    "\n",
    "4 = 30 867 (30%)  \n",
    "5 = 23 648 (23%)  \n",
    "3 = 22 833 (22%)  \n",
    "2 = 14 681 (14%)  \n",
    "1 = 11 872 (11%)  \n",
    "0 = 3 (<1%)  \n",
    "  \n",
    "Stredné hodnoty:  \n",
    "Median = 4  \n",
    "Modus = 4  \n",
    "Priemer = 3.38"
   ]
  },
  {
   "cell_type": "code",
   "execution_count": null,
   "metadata": {},
   "outputs": [],
   "source": [
    "data_train[\"On-board service\"].value_counts().sort_index().plot(kind='bar')"
   ]
  },
  {
   "cell_type": "markdown",
   "metadata": {},
   "source": [
    "### Leg room service\n",
    "Stĺpec reprezentuje priestor pre nohy. Na bar a pie grafe je znázornené, že najčastejšia hodnota je číslo 4. Za ňou nasleduje 5. Najmenej frekventovaná odpoveď mala hodnotu 1, ak nepočítame hodnotu 0. Rozdelenie dát histogramu je naklonené do pravej strany. Hodnota Shapiro-Wilkov testu je 2.42e-07 a skewness -0.35.\n",
    "\n",
    "4 = 28 789 (28%)  \n",
    "5 = 24 667 (24%)  \n",
    "3 = 20 098 (19%)  \n",
    "2 = 19 525 (19%)  \n",
    "1 = 10 353 (10%)  \n",
    "0 = 472 (<1%)  \n",
    "  \n",
    "Stredné hodnoty:  \n",
    "Median = 4  \n",
    "Modus = 4  \n",
    "Priemer = 3.35"
   ]
  },
  {
   "cell_type": "code",
   "execution_count": null,
   "metadata": {},
   "outputs": [],
   "source": [
    "data_train[\"Leg room service\"].value_counts().sort_index().plot(kind='bar')"
   ]
  },
  {
   "cell_type": "markdown",
   "metadata": {},
   "source": [
    "### Baggage handling\n",
    "Stĺpec reprezentuje manipuláciu s batožinou. Na bar a pie grafe je znázornené, že najčastejšia hodnota je číslo 4. Za ňou nasleduje 5. Najmenej frekventovaná odpoveď mala hodnotu 1. Neexistuje ani jedna jedna hodnota 0, čiže na túto otázku odpovedali všetci pasažieri. Rozdelenie dát histogramu je naklonené do pravej strany. Hodnota Shapiro-Wilkov testu je 5.003e-08 a skewness -0.677.\n",
    "\n",
    "4 = 37 383 (36%)  \n",
    "5 = 27 131 (26%)  \n",
    "3 = 20 632 (20%)  \n",
    "2 = 11 521 (11%)  \n",
    "1 = 7 237 (7%)  \n",
    "  \n",
    "Stredné hodnoty:  \n",
    "Median = 4  \n",
    "Modus = 4  \n",
    "Priemer = 3.36"
   ]
  },
  {
   "cell_type": "code",
   "execution_count": null,
   "metadata": {},
   "outputs": [],
   "source": [
    "data_train[\"Baggage handling\"].value_counts().sort_index().plot(kind='bar')"
   ]
  },
  {
   "cell_type": "markdown",
   "metadata": {},
   "source": [
    "### Checkin service\n",
    "Stĺpec reprezentuje check-in službu. Na bar a pie grafe je znázornené, že najčastejšia hodnota je číslo 4. Za ňou nasleduje 3. Najmenej frekventovaná odpoveď mala hodnotu 1, ak nepočítame hodnotu 0. Rozdelenie dát histogramu je naklonené do pravej strany. Hodnota Shapiro-Wilkov testu je 1.18e-07 a skewness -0.364.\n",
    "\n",
    "4 = 29 055 (28%)  \n",
    "3 = 28 446 (27%)  \n",
    "5 = 20 619 (20%)  \n",
    "2 = 12 893 (12%)  \n",
    "1 = 12 890 (12%)  \n",
    "0 = 1 (<1%)  \n",
    "  \n",
    "Stredné hodnoty:  \n",
    "Median = 3  \n",
    "Modus = 4  \n",
    "Priemer = 3.3"
   ]
  },
  {
   "cell_type": "code",
   "execution_count": null,
   "metadata": {},
   "outputs": [],
   "source": [
    "data_train[\"Checkin service\"].value_counts().sort_index().plot(kind='bar')"
   ]
  },
  {
   "cell_type": "markdown",
   "metadata": {},
   "source": [
    "### Inflight service\n",
    "Stĺpec reprezentuje príletovú službu. Na bar a pie grafe je znázornené, že najčastejšia hodnota je číslo 4. Za ňou nasleduje 5. Najmenej frekventovaná odpoveď mala hodnotu 1, ak nepočítame hodnotu 0. Rozdelenie dát histogramu je naklonené do pravej strany. Hodnota Shapiro-Wilkov testu je 5.35e-09 a skewness -0.69.\n",
    "\n",
    "4 = 37 945 (37%)  \n",
    "5 = 27 116 (26%)  \n",
    "3 = 20 299 (20%)  \n",
    "2 = 11 457 (11%)  \n",
    "1 = 7 084 (7%)  \n",
    "0 = 3 (<1%)  \n",
    "  \n",
    "Stredné hodnoty:  \n",
    "Median = 4  \n",
    "Modus = 4  \n",
    "Priemer = 3.64"
   ]
  },
  {
   "cell_type": "code",
   "execution_count": null,
   "metadata": {},
   "outputs": [],
   "source": [
    "data_train[\"Inflight service\"].value_counts().sort_index().plot(kind='bar')"
   ]
  },
  {
   "cell_type": "markdown",
   "metadata": {},
   "source": [
    "### Cleanliness\n",
    "Stĺpec reprezentuje čistotu. Na bar a pie grafe je znázornené, že najčastejšia hodnota je číslo 4. Za ňou nasleduje 3. Najmenej frekventovaná odpoveď mala hodnotu 1, ak nepočítame hodnotu 0. Rozdelenie dát histogramu je naklonené do pravej strany. Hodnota Shapiro-Wilkov testu je 1.22e-07 a skewness -0.3.\n",
    "\n",
    "4 = 27 179 (26%)  \n",
    "3 = 24 574 (24%)  \n",
    "5 = 22 689 (22%)  \n",
    "2 = 16 132 (16%)  \n",
    "1 = 13 318 (13%)  \n",
    "0 = 12 (<1%)  \n",
    "  \n",
    "Stredné hodnoty:  \n",
    "Median = 3  \n",
    "Modus = 4  \n",
    "Priemer = 3.28"
   ]
  },
  {
   "cell_type": "code",
   "execution_count": null,
   "metadata": {},
   "outputs": [],
   "source": [
    "data_train[\"Cleanliness\"].value_counts().sort_index().plot(kind='bar')"
   ]
  },
  {
   "cell_type": "markdown",
   "metadata": {},
   "source": [
    "## Spojite stĺpce\n",
    "V datasete sa dokopy nachádzajú štyri spojité stĺpce. Konkrétne sa jedná o stĺpec \"Age\", \"Flight Distance\", \"Departure Delay in Minutes\" a \"Arrival Delay in Minutes\"."
   ]
  },
  {
   "cell_type": "markdown",
   "metadata": {},
   "source": [
    "### \"Age\"\n",
    "\n",
    "Tento stĺpec reprezentuje vek pasažiera. Boxplot ukazuje, že v tomto stĺci sa nenachádzajú vychýlené hodnoty. Z qqPlotu a historamu je možné vyčítať, že rozdelenie dát sa podobá normálnemu. Potvrdil to aj Shapiro-Wilkov test, kedy nadobudol hodnotu 0.17 čo je viac ako 0.05. Na qqPlotu je možné vyčítať, že krajné hodnoty sa vychýľujú od normálneho rozdelenia. Zároveň dáta sú vychýlené do pravej strany, čo potvrdil aj test na skewness, pri ktorom vyšla záporná hodnota -0.0045. Boxplot znázorňuje hodnoty vypísané nižšie.    \n",
    "\n",
    "Stredné hodnoty:  \n",
    "Medián = 40  \n",
    "Modus = 39  \n",
    "Priemer = 39.379706  \n",
    "\n",
    "Variabilita dáta:  \n",
    "75% kvartil = 51  \n",
    "25% kvartil = 27  \n",
    "min = 7  \n",
    "max = 85  \n",
    "rozpätie = 78  \n",
    "medzikvartilové rozpätie = 24  \n",
    "variancia = 228.46  \n",
    "std = 15.11\n",
    "\n"
   ]
  },
  {
   "cell_type": "code",
   "execution_count": null,
   "metadata": {},
   "outputs": [],
   "source": [
    "# test na normalnost\n",
    "print(stats.shapiro(data_train['Age'].iloc[:100]))\n",
    "# test na skewness\n",
    "print(skew(data_train['Age']))"
   ]
  },
  {
   "cell_type": "code",
   "execution_count": null,
   "metadata": {},
   "outputs": [],
   "source": [
    "sns.boxplot(y=data_train['Age'], width=0.5)"
   ]
  },
  {
   "cell_type": "code",
   "execution_count": null,
   "metadata": {},
   "outputs": [],
   "source": [
    "qqplot(data_train['Age'], line='s')\n",
    "py.show()"
   ]
  },
  {
   "cell_type": "code",
   "execution_count": null,
   "metadata": {},
   "outputs": [],
   "source": [
    "sns.distplot(data_train[\"Age\"], bins=30)"
   ]
  },
  {
   "cell_type": "markdown",
   "metadata": {},
   "source": [
    "### \"Flight Distance\"\n",
    "Tento stĺpec reprezentuje vzdialenosť letu. Boxplot ukazuje, že sa v tomto stĺpci vyskytujú vychýlené hodnoty. Z qqPlotu a histogramu je možné vyčítať, že rozdelenie dát nie je normálne. Čo potvrdil aj Shapiro-Wilkov test, kde je hodnota nižšia ako 0.05, konkrétne 5.28e-08.\n",
    "Zároveň z histogramu je možné vyčítať, že dáta sú naklonené do ľavej strany, čo potvrdil aj test na skewness, pri ktorom vyšla pozitívna hodnota 1.109. Boxplot znázorňuje hodnoty vypísané nižšie.\n",
    "\n",
    "Stredné hodnoty:  \n",
    "Medián = 843  \n",
    "Modus = 337  \n",
    "Priemer = //nepoužijeme pretože je citlivý na vychýlené hodnoty  \n",
    "\n",
    "Variabilita dáta:  \n",
    "75% kvartil = 1743  \n",
    "25% kvartil = 414  \n",
    "min = 31  \n",
    "max = 4983  \n",
    "rozpätie = 4952  \n",
    "medzikvartilové rozpätie = 1329  \n",
    "variancia = 994302.69  \n",
    "std = 997.14"
   ]
  },
  {
   "cell_type": "code",
   "execution_count": null,
   "metadata": {},
   "outputs": [],
   "source": [
    "# test na normalnost\n",
    "print(stats.shapiro(data_train['Flight Distance'].iloc[:100]))\n",
    "# test na skewness\n",
    "print(skew(data_train['Flight Distance']))"
   ]
  },
  {
   "cell_type": "code",
   "execution_count": null,
   "metadata": {},
   "outputs": [],
   "source": [
    "sns.boxplot(y=data_train['Flight Distance'], width=0.5)"
   ]
  },
  {
   "cell_type": "code",
   "execution_count": null,
   "metadata": {},
   "outputs": [],
   "source": [
    "qqplot(data_train['Flight Distance'], line='s')\n",
    "py.show()"
   ]
  },
  {
   "cell_type": "code",
   "execution_count": null,
   "metadata": {},
   "outputs": [],
   "source": [
    "sns.distplot(data_train[\"Flight Distance\"], bins=30)"
   ]
  },
  {
   "cell_type": "markdown",
   "metadata": {},
   "source": [
    "### \"Departure Delay in Minutes\"\n",
    "Tento stĺpec reprezentuje dobu meškania odletu v minútach. Na boxplote je znázornené veľké množstvo vychýlených hodnôt. Tie sú spôsobené tým, že signifikantná väčšina letov odletela načas alebo do pár minút. Tým pádom, keď nastalo meškanie odletu, tak bolo posúdené ako vychýlená hodnota. Už z pohľadu na qqPlot a histogram si môžeme uvedomiť, že rozdelenie dát je ďaleko od normálneho. Potvrdil to aj Shapiro-Wilkov test, v ktorom nadobudlo hodnotu 6.98e-14, čo je výrazne menej ako 0.05. Dáta sú extrémne naklonené do ľavej strany, čo potvrdil aj test na skewness, pri ktorom vyšla hodnota 6.73.\n",
    "\n",
    "\n",
    "Stredné hodnoty:  \n",
    "Medián = 0  \n",
    "Modus = 0  \n",
    "Priemer = //nepoužijeme pretože je citlivý na vychýlené hodnoty  \n",
    "\n",
    "Variabilita dáta:  \n",
    "75% kvartil = 12  \n",
    "25% kvartil = 0  \n",
    "min = 0  \n",
    "max = 1592  \n",
    "rozpätie = 1592  \n",
    "medzikvartilové rozpätie = 12  \n",
    "variancia = 1461.6  \n",
    "std = 38.23"
   ]
  },
  {
   "cell_type": "code",
   "execution_count": null,
   "metadata": {},
   "outputs": [],
   "source": [
    "# test na normalnost\n",
    "print(stats.shapiro(data_train['Departure Delay in Minutes'].iloc[:100]))\n",
    "# test na skewness\n",
    "print(skew(data_train['Departure Delay in Minutes']))"
   ]
  },
  {
   "cell_type": "code",
   "execution_count": null,
   "metadata": {},
   "outputs": [],
   "source": [
    "sns.boxplot(y=data_train['Departure Delay in Minutes'], width=0.5)"
   ]
  },
  {
   "cell_type": "code",
   "execution_count": null,
   "metadata": {},
   "outputs": [],
   "source": [
    "qqplot(data_train['Departure Delay in Minutes'], line='s')\n",
    "py.show()"
   ]
  },
  {
   "cell_type": "code",
   "execution_count": null,
   "metadata": {},
   "outputs": [],
   "source": [
    "sns.distplot(data_train[\"Departure Delay in Minutes\"], bins=30)"
   ]
  },
  {
   "cell_type": "markdown",
   "metadata": {},
   "source": [
    "### \"Arrival Delay in Minutes\"\n",
    "Tento stĺpec reprezentuje dobu meškania príletu v minútach. Na boxplote je znázornené veľké množstvo vychýlených hodnôt. Tie sú spôsobené tým, že signifikantná väčšina letov priletela načas alebo do pár minút. Tým pádom, keď nastalo meškanie príletu, tak bolo posúdené ako vychýlená hodnota. Už z pohľadu na qqPlot a histogram si môžeme uvedomiť, že rozdelenie dát je ďaleko od normálneho. Potvrdil to aj Shapiro-Wilkov test, v ktorom nadobudlo hodnotu 2.62e-14, čo je výrazne menej ako 0.05. Dáta sú extrémne naklonené do ľavej strany, čo potvrdil aj test na skewness, pri ktorom vyšla hodnota 6.59.\n",
    "\n",
    "\n",
    "Stredné hodnoty:  \n",
    "Medián = 0  \n",
    "Modus = 0  \n",
    "Priemer = //nepoužijeme pretože je citlivý na vychýlené hodnoty  \n",
    "\n",
    "Variabilita dáta:  \n",
    "75% kvartil = 13  \n",
    "25% kvartil = 0  \n",
    "min = 0  \n",
    "max = 1584  \n",
    "rozpätie = 1584  \n",
    "medzikvartilové rozpätie = 13  \n",
    "variancia = 1497.58  \n",
    "std = 38.69"
   ]
  },
  {
   "cell_type": "code",
   "execution_count": null,
   "metadata": {},
   "outputs": [],
   "source": [
    "# test na normalnost\n",
    "print(stats.shapiro(data_train['Arrival Delay in Minutes'].iloc[:100].dropna()))\n",
    "# test na skewness\n",
    "print(skew(data_train['Arrival Delay in Minutes'].dropna()))"
   ]
  },
  {
   "cell_type": "code",
   "execution_count": null,
   "metadata": {},
   "outputs": [],
   "source": [
    "sns.boxplot(y=data_train['Arrival Delay in Minutes'].dropna(), width=0.5)"
   ]
  },
  {
   "cell_type": "code",
   "execution_count": null,
   "metadata": {},
   "outputs": [],
   "source": [
    "qqplot(data_train['Arrival Delay in Minutes'].dropna(), line='s')\n",
    "py.show()"
   ]
  },
  {
   "cell_type": "code",
   "execution_count": null,
   "metadata": {},
   "outputs": [],
   "source": [
    "sns.distplot(data_train[\"Arrival Delay in Minutes\"].dropna(), bins=30)"
   ]
  },
  {
   "cell_type": "markdown",
   "metadata": {},
   "source": [
    "## Identifikácia chýb v dátach"
   ]
  },
  {
   "cell_type": "markdown",
   "metadata": {},
   "source": [
    "### Identifikácia NaN hodnôt\n",
    "\n",
    "Nan hodnoty sa v celom datasete nachádzajú iba v jednom stĺpci. Konkrétne sa jedná o stĺpec \"Arrival Delay in Minutes\".\n",
    "\n",
    "Návrh riešenia: keďže je takýchto dát v celom datasete málo, tak navrhujeme odstrániť záznamy, v ktorých chýbajú hodnoty."
   ]
  },
  {
   "cell_type": "code",
   "execution_count": null,
   "metadata": {},
   "outputs": [],
   "source": [
    "data_train.isna().sum()"
   ]
  },
  {
   "cell_type": "markdown",
   "metadata": {},
   "source": [
    "## Duplikátne hodnoty\n",
    "V celom datasete sa nenachádzajú žiadne duplikátne hodnoty.\n",
    "\n",
    "Ak by sa v datasete nachádzali, tak by sme ich navrhli odstrániť."
   ]
  },
  {
   "cell_type": "code",
   "execution_count": null,
   "metadata": {},
   "outputs": [],
   "source": [
    "len([1 for row in data_train.duplicated() if row])"
   ]
  },
  {
   "cell_type": "markdown",
   "metadata": {},
   "source": [
    "## Vychýlené hodnoty\n",
    "\n",
    "V celom datasete sa nachádzajú vychýlené hodnoty v troch stĺpcoch \"Flight Distance\", \"Departure Delay in Minutes\" a \"Arrival Delay in Minutes\". Všetky vychýlené hodnoty sú reálne hodnoty (nejedná sa o chyby pri zbere dát). Pri \"Flight Distance\" medián 843 kilometrov. Tým pádom dlhé lety, ktoré majú 4000 a viac kilometrov sú automaticky označované za vychýlené hodnoty. \n",
    "\n",
    "Pri \"Departure Delay in Minutes\" a \"Arrival Delay in Minutes\" je meškanie zväčša nulové. Tým pádom sú všetky hodnoty väčšie ako 0 označené za vychýlené hodnoty.\n",
    "\n",
    "Návrh riešenia: keďže tieto hodnoty sú reálne a nie sú to chyby a mali by mať významný vplyv na predikovanú premennú, tak sme sa rozhodli ich neodstraňovať."
   ]
  },
  {
   "cell_type": "markdown",
   "metadata": {},
   "source": [
    "### Flight Distance"
   ]
  },
  {
   "cell_type": "code",
   "execution_count": null,
   "metadata": {},
   "outputs": [],
   "source": [
    "sns.boxplot(y=data_train['Flight Distance'], width=0.5)"
   ]
  },
  {
   "cell_type": "markdown",
   "metadata": {},
   "source": [
    "### Departure Delay in Minutes"
   ]
  },
  {
   "cell_type": "code",
   "execution_count": null,
   "metadata": {},
   "outputs": [],
   "source": [
    "sns.boxplot(y=data_train['Departure Delay in Minutes'], width=0.5)"
   ]
  },
  {
   "cell_type": "markdown",
   "metadata": {},
   "source": [
    "### Arrival Delay in Minutes"
   ]
  },
  {
   "cell_type": "code",
   "execution_count": null,
   "metadata": {},
   "outputs": [],
   "source": [
    "sns.boxplot(y=data_train['Arrival Delay in Minutes'], width=0.5)"
   ]
  },
  {
   "cell_type": "markdown",
   "metadata": {},
   "source": [
    "## Kontrola formy dát\n",
    "V tejto časti kontrolujeme jednotnosť formy dát. Na výstupe je vidieť, že hodnoty v kategorických stĺpcoch sú jednotné a nachádzajú sa tam len kategórie, ktoré očakávame.\n"
   ]
  },
  {
   "cell_type": "code",
   "execution_count": null,
   "metadata": {},
   "outputs": [],
   "source": [
    "cols = ['Gender', 'Customer Type', 'Type of Travel', 'Class', 'Inflight wifi service',\n",
    "       'Departure/Arrival time convenient', 'Ease of Online booking',\n",
    "       'Gate location', 'Food and drink', 'Online boarding', 'Seat comfort',\n",
    "       'Inflight entertainment', 'On-board service', 'Leg room service',\n",
    "       'Baggage handling', 'Checkin service', 'Inflight service',\n",
    "       'Cleanliness', 'satisfaction']\n",
    "\n",
    "for col in data_train[cols]:\n",
    "    print(f\"{col}: {data_train[col].unique()}\")"
   ]
  },
  {
   "cell_type": "code",
   "execution_count": null,
   "metadata": {},
   "outputs": [],
   "source": []
  }
 ],
 "metadata": {
  "kernelspec": {
   "display_name": "Python 3",
   "language": "python",
   "name": "python3"
  },
  "language_info": {
   "codemirror_mode": {
    "name": "ipython",
    "version": 3
   },
   "file_extension": ".py",
   "mimetype": "text/x-python",
   "name": "python",
   "nbconvert_exporter": "python",
   "pygments_lexer": "ipython3",
   "version": "3.8.3"
  }
 },
 "nbformat": 4,
 "nbformat_minor": 4
}
