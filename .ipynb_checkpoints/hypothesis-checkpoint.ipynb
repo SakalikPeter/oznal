{
 "cells": [
  {
   "cell_type": "markdown",
   "metadata": {},
   "source": [
    "# Hypotézy\n",
    "\n",
    "1. Loajálnym zákazníkom menej prekáža horší inflight service ako neloajálnym zákazníkom.\n",
    "2. Ľuďom nad 50 rokov menej prekáža zlé pokrytie wifi počas letu.\n",
    "3. Ak je pasažier počas dlhého letu nespokojný s komfortom, tak je nespokojný aj s celým letom.\n",
    "4. Počas dlhých letov je pasažierom ponúkané lepšie jedlo.\n",
    "5. Čím dlhšie meškanie odletu, tak tým dlhšie meškanie príletu (hypotéza so spojitými dátami)\n"
   ]
  },
  {
   "cell_type": "code",
   "execution_count": null,
   "metadata": {},
   "outputs": [],
   "source": [
    "import pandas as pd\n",
    "import seaborn as sns\n",
    "import scipy.stats as stats\n",
    "import random\n",
    "from scipy.stats import chisquare\n",
    "from scipy.stats import chi2_contingency\n",
    "from scipy.stats import chi2"
   ]
  },
  {
   "cell_type": "code",
   "execution_count": null,
   "metadata": {},
   "outputs": [],
   "source": [
    "df = pd.read_csv('dataset/airline_df.csv', index_col='Unnamed: 0')"
   ]
  },
  {
   "cell_type": "code",
   "execution_count": null,
   "metadata": {
    "tags": []
   },
   "outputs": [],
   "source": [
    "def tests(x, y):\n",
    "    for _ in range(20):\n",
    "        x = random.sample(x, 100)\n",
    "        y = random.sample(y, 100)\n",
    "\n",
    "        print(chisquare(x, f_exp=y))"
   ]
  },
  {
   "cell_type": "markdown",
   "metadata": {},
   "source": [
    "## 1. Loajálnym zákazníkom menej prekáža horší inflight service ako neloajálnym zákazníkom. \n",
    "\n",
    "### Nul. Loajálnym zákazníkom prekáža horší inflight service rovnako alebo viac ako neloajálnym zákazníkom\n",
    "\n",
    "### Alt. Loajálnym zákazníkom prekáža horší inflight service menej neloajálnym zákazníkom"
   ]
  },
  {
   "cell_type": "code",
   "execution_count": null,
   "metadata": {},
   "outputs": [],
   "source": [
    "loyal_customer = df.loc[(df['Customer Type'] == 'Loyal Customer') & (df['Inflight service'] <= 3), 'satisfaction']\n",
    "disloyal_customer = df.loc[(df['Customer Type'] == 'disloyal Customer') & (df['Inflight service'] <= 3), 'satisfaction']"
   ]
  },
  {
   "cell_type": "code",
   "execution_count": null,
   "metadata": {},
   "outputs": [],
   "source": [
    "loyal_customer.value_counts().sort_index().plot(kind='bar')\n",
    "\n",
    "loyal = loyal_customer.value_counts().sort_index()\n",
    "loyal / sum(loyal.values.tolist()) * 100"
   ]
  },
  {
   "cell_type": "code",
   "execution_count": null,
   "metadata": {},
   "outputs": [],
   "source": [
    "disloyal_customer.value_counts().sort_index().plot(kind='bar')\n",
    "\n",
    "disloyal = disloyal_customer.value_counts().sort_index()\n",
    "disloyal / sum(disloyal.values.tolist()) * 100"
   ]
  },
  {
   "cell_type": "code",
   "execution_count": null,
   "metadata": {},
   "outputs": [],
   "source": [
    "chisquare(loyal.values.tolist(), f_exp=disloyal.values.tolist())"
   ]
  },
  {
   "cell_type": "markdown",
   "metadata": {},
   "source": [
    "## 2. Ľuďom nad 50 rokov menej prekáža zlá wifi počas letu\n",
    "\n",
    "### Nul. ľuďom nad 50 rokov prekáža zlé pokrytie wifi rovnako alebo viac ako ľuďom pod 50 rokov.\n",
    "\n",
    "### Alt. Ľuďom nad 50 rokov prekáža zlé pokrytie wifi počas letu menej ako ľuďom pod 50 rokov."
   ]
  },
  {
   "cell_type": "code",
   "execution_count": null,
   "metadata": {},
   "outputs": [],
   "source": [
    "older_than_fifty = df.loc[(df['Age'] >= 50) & (df['Inflight wifi service'] <= 3), 'satisfaction']\n",
    "younger_than_fifty = df.loc[(df['Age'] < 50) & (df['Inflight wifi service'] <= 3), 'satisfaction']"
   ]
  },
  {
   "cell_type": "code",
   "execution_count": null,
   "metadata": {},
   "outputs": [],
   "source": [
    "older_than_fifty.value_counts().plot(kind='bar')\n",
    "\n",
    "older = older_than_fifty.value_counts().sort_index()\n",
    "older / sum(older.values.tolist()) * 100"
   ]
  },
  {
   "cell_type": "code",
   "execution_count": null,
   "metadata": {},
   "outputs": [],
   "source": [
    "younger_than_fifty.value_counts().plot(kind='bar')\n",
    "\n",
    "younger = younger_than_fifty.value_counts().sort_index()\n",
    "younger / sum(younger.values.tolist()) * 100"
   ]
  },
  {
   "cell_type": "code",
   "execution_count": null,
   "metadata": {},
   "outputs": [],
   "source": [
    "chisquare(older.values.tolist(), f_exp=younger.values.tolist())"
   ]
  },
  {
   "cell_type": "markdown",
   "metadata": {},
   "source": [
    "## 3 Ak je pasažier počas dlhého letu spokojný s komfortom, tak je spokojný aj s celým letom.\n",
    "\n",
    "### Nul. Pasažieri, ktorí sú počas dlhého letu nespokojní s komfortom, tak sú spokojní s celým letom rovnako alebo viac ako tí čo sú spokojní s komfortom.\n",
    "\n",
    "### Alt. Pasažieri, ktorí sú počas dlhého letu spokojní s komfortom, tak sú spokojní s celým letom viac ako tí čo nie sú spokojní s komfortom."
   ]
  },
  {
   "cell_type": "code",
   "execution_count": null,
   "metadata": {},
   "outputs": [],
   "source": [
    "long_flights_discomfort = df.loc[(df['Flight Distance'] > 843) & (df['Seat comfort'] <= 3), 'satisfaction']\n",
    "long_flights_comfort = df.loc[(df['Flight Distance'] > 843) & (df['Seat comfort'] > 3), 'satisfaction']"
   ]
  },
  {
   "cell_type": "code",
   "execution_count": null,
   "metadata": {},
   "outputs": [],
   "source": [
    "long_flights_discomfort.value_counts().sort_index().plot(kind='bar')\n",
    "\n",
    "discomfort = long_flights_discomfort.value_counts().sort_index()\n",
    "discomfort / sum(discomfort.values.tolist()) * 100"
   ]
  },
  {
   "cell_type": "code",
   "execution_count": null,
   "metadata": {},
   "outputs": [],
   "source": [
    "long_flights_comfort.value_counts().sort_index().plot(kind='bar')\n",
    "\n",
    "comfort = long_flights_comfort.value_counts().sort_index()\n",
    "comfort / sum(comfort.values.tolist()) * 100"
   ]
  },
  {
   "cell_type": "code",
   "execution_count": null,
   "metadata": {},
   "outputs": [],
   "source": [
    "chisquare(comfort.values.tolist(), f_exp=discomfort.values.tolist())"
   ]
  },
  {
   "cell_type": "markdown",
   "metadata": {},
   "source": [
    "## 4 Počas dlhých letov je pasažierom ponúkané lepšie jedlo ako je ponúkané počas krátkych letov.\n",
    "\n",
    "### Nul. Počas dlhých letov je pasažierom ponúkané horšie/rovnako kvalitné jedlo ako je ponúkané počas krátkych letov.\n",
    "\n",
    "### Alt. Počas dlhých letov je pasažierom ponúkané kvalitnejšie jedlo ako je ponúkané počas krátkych letov."
   ]
  },
  {
   "cell_type": "code",
   "execution_count": null,
   "metadata": {},
   "outputs": [],
   "source": [
    "long_flights = df.loc[df['Flight Distance'] > 843, 'Food and drink']\n",
    "short_flights = df.loc[df['Flight Distance'] <= 843, 'Food and drink']"
   ]
  },
  {
   "cell_type": "code",
   "execution_count": null,
   "metadata": {},
   "outputs": [],
   "source": [
    "long_flights.value_counts().sort_index().plot(kind='bar')\n",
    "\n",
    "long_f = long_flights.value_counts().sort_index()\n",
    "long_f / sum(long_f.values.tolist()) * 100"
   ]
  },
  {
   "cell_type": "code",
   "execution_count": null,
   "metadata": {},
   "outputs": [],
   "source": [
    "short_flights.value_counts().sort_index().plot(kind='bar')\n",
    "\n",
    "short = short_flights.value_counts().sort_index()\n",
    "short / sum(short.values.tolist()) * 100"
   ]
  },
  {
   "cell_type": "code",
   "execution_count": null,
   "metadata": {},
   "outputs": [],
   "source": [
    "chisquare(long_f.values.tolist(), f_exp=short.values.tolist())"
   ]
  },
  {
   "cell_type": "markdown",
   "metadata": {},
   "source": [
    "## 5 Rozdiel dĺžky meškania odletu pasažierov, ktorí sú spokojní s letom a pasažierov, ktorí sú nespokojní s letom je signifikantný.\n",
    "\n",
    "### Nul Rozdiel dĺžky meškania odletu pasažierov, ktorí sú spokojní s letom a tých, ktorých sú nespokojní s letom nie je signigikantný.\n",
    "\n",
    "### Alt Rozdiel dĺžky meškania odletu pasažierov, ktorí sú spokojní s letom a tých, ktorých sú nespokojní s letom je signigikantný."
   ]
  },
  {
   "cell_type": "code",
   "execution_count": null,
   "metadata": {},
   "outputs": [],
   "source": [
    "delay_dissatisfied = df.loc[(df['satisfaction'] == 'neutral or dissatisfied'), 'Departure Delay in Minutes']\n",
    "sns.distplot(delay_dissatisfied, bins=30)\n",
    "\n",
    "stats.shapiro(delay_dissatisfied)"
   ]
  },
  {
   "cell_type": "code",
   "execution_count": null,
   "metadata": {},
   "outputs": [],
   "source": [
    "delay_satisfied = df.loc[(df['satisfaction'] == 'satisfied'), 'Departure Delay in Minutes']\n",
    "sns.distplot(delay_satisfied, bins=30)\n",
    "\n",
    "stats.shapiro(delay_satisfied)"
   ]
  },
  {
   "cell_type": "code",
   "execution_count": null,
   "metadata": {},
   "outputs": [],
   "source": [
    "for _ in range(20):\n",
    "    x = random.sample(delay_dissatisfied.tolist(), 100)\n",
    "    y = random.sample(delay_satisfied.tolist(), 100)\n",
    "\n",
    "    print(stats.mannwhitneyu(x, y))\n"
   ]
  },
  {
   "cell_type": "code",
   "execution_count": null,
   "metadata": {},
   "outputs": [],
   "source": []
  }
 ],
 "metadata": {
  "kernelspec": {
   "display_name": "Python 3",
   "language": "python",
   "name": "python3"
  },
  "language_info": {
   "codemirror_mode": {
    "name": "ipython",
    "version": 3
   },
   "file_extension": ".py",
   "mimetype": "text/x-python",
   "name": "python",
   "nbconvert_exporter": "python",
   "pygments_lexer": "ipython3",
   "version": "3.8.3"
  }
 },
 "nbformat": 4,
 "nbformat_minor": 4
}
