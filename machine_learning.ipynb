{
 "metadata": {
  "language_info": {
   "codemirror_mode": {
    "name": "ipython",
    "version": 3
   },
   "file_extension": ".py",
   "mimetype": "text/x-python",
   "name": "python",
   "nbconvert_exporter": "python",
   "pygments_lexer": "ipython3",
   "version": "3.8.3-final"
  },
  "orig_nbformat": 2,
  "kernelspec": {
   "name": "python3",
   "display_name": "Python 3.8.3 64-bit ('base': conda)",
   "metadata": {
    "interpreter": {
     "hash": "c7c94e8d4ce8212a209ae89598d8b0f05846e5577e42772246878b921c9a5bd1"
    }
   }
  }
 },
 "nbformat": 4,
 "nbformat_minor": 2,
 "cells": [
  {
   "cell_type": "code",
   "execution_count": 35,
   "metadata": {},
   "outputs": [],
   "source": [
    "import pandas as pd\n",
    "from sklearn.model_selection import train_test_split\n",
    "from sklearn.linear_model import LogisticRegression\n",
    "from sklearn.metrics import accuracy_score\n",
    "from sklearn import tree\n",
    "from sklearn.ensemble import RandomForestClassifier"
   ]
  },
  {
   "cell_type": "code",
   "execution_count": 7,
   "metadata": {},
   "outputs": [],
   "source": [
    "data = pd.read_csv('dataset/airline_df.csv', index_col='Unnamed: 0')\n",
    "train_df, test_df = train_test_split(data, shuffle=True)"
   ]
  },
  {
   "cell_type": "code",
   "execution_count": 38,
   "metadata": {},
   "outputs": [],
   "source": [
    "def log_reg(X, y):\n",
    "    clf = LogisticRegression(random_state=0).fit(X, y)\n",
    "    return clf\n",
    "\n",
    "def dec_tree(X, y):\n",
    "    clf = tree.DecisionTreeClassifier().fit(X, y)\n",
    "    return clf\n",
    "\n",
    "def rand_forest(X, y):\n",
    "    clf = RandomForestClassifier(max_depth=2, random_state=0).fit(X, y)\n",
    "    return clf\n",
    "\n",
    "def acc(model, X, y_true):\n",
    "    y_pred = model.predict(X)\n",
    "    print(accuracy_score(y_true, y_pred))\n",
    "\n",
    "def one_hot(data, col):\n",
    "    enc = pd.get_dummies(data[col])\n",
    "    data = data.drop(col,axis = 1)\n",
    "    data = data.join(enc)\n",
    "    return data"
   ]
  },
  {
   "cell_type": "code",
   "execution_count": 39,
   "metadata": {},
   "outputs": [
    {
     "output_type": "stream",
     "name": "stdout",
     "text": [
      "0.6551432091161071\n"
     ]
    }
   ],
   "source": [
    "train_X = train_df[['Customer Type', 'Inflight service']]\n",
    "train_y = train_df['satisfaction']\n",
    "\n",
    "test_X = test_df[['Customer Type', 'Inflight service']]\n",
    "test_y = test_df['satisfaction']\n",
    "\n",
    "train_X = one_hot(train_X, 'Customer Type')\n",
    "test_X = one_hot(test_X, 'Customer Type')\n",
    "\n",
    "model = rand_forest(train_X, train_y)\n",
    "acc(model, test_X, test_y)"
   ]
  },
  {
   "cell_type": "code",
   "execution_count": 40,
   "metadata": {},
   "outputs": [
    {
     "output_type": "stream",
     "name": "stdout",
     "text": [
      "0.7319833692639359\n"
     ]
    }
   ],
   "source": [
    "train_X = train_df[['Age', 'Inflight wifi service']]\n",
    "train_y = train_df['satisfaction']\n",
    "\n",
    "test_X = test_df[['Age', 'Inflight wifi service']]\n",
    "test_y = test_df['satisfaction']\n",
    "\n",
    "model = rand_forest(train_X, train_y)\n",
    "acc(model, test_X, test_y)"
   ]
  },
  {
   "cell_type": "code",
   "execution_count": 41,
   "metadata": {},
   "outputs": [
    {
     "output_type": "stream",
     "name": "stdout",
     "text": [
      "0.7050739143825069\n"
     ]
    }
   ],
   "source": [
    "train_X = train_df[['Flight Distance', 'Seat comfort']]\n",
    "train_y = train_df['satisfaction']\n",
    "\n",
    "test_X = test_df[['Flight Distance', 'Seat comfort']]\n",
    "test_y = test_df['satisfaction']\n",
    "\n",
    "model = rand_forest(train_X, train_y)\n",
    "acc(model, test_X, test_y)"
   ]
  },
  {
   "cell_type": "code",
   "execution_count": null,
   "metadata": {},
   "outputs": [],
   "source": []
  }
 ]
}