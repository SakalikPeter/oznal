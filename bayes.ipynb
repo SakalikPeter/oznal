{
 "cells": [
  {
   "cell_type": "code",
   "execution_count": null,
   "metadata": {},
   "outputs": [],
   "source": [
    "import pandas as pd\n",
    "import matplotlib.pyplot as plt\n",
    "import numpy as np\n",
    "import seaborn as sns\n",
    "from scipy import stats\n",
    "from statsmodels.graphics.gofplots import qqplot\n",
    "import pylab as py\n",
    "from scipy.stats import skew"
   ]
  },
  {
   "cell_type": "code",
   "execution_count": null,
   "metadata": {},
   "outputs": [],
   "source": [
    "df = pd.read_csv('dataset/final_df.csv', index_col='Unnamed: 0')"
   ]
  },
  {
   "cell_type": "markdown",
   "metadata": {},
   "source": [
    "## Bayes: výpočet pravdepodobnosti spokojnosti s celkovým letom na základe spokojnosti zákazníkov s komfortom počas dlhých letov. \n",
    "\n",
    "### Získavanie priorov spokojnosti s komfortom pre dlhé lety\n",
    "\n",
    "Ako dlhé lety sú klasifikované tie, ktorých dĺžka je väčšia ako medián (843). Ako spokojných zákazníkov sme klasifikovali tých, ktorí ohodnotili komfort známkou 4 alebo 5. S komfortom počas dlhých letov bolo spokojných 62% (33.94% + 28.06%) zákazníkov. Ako nespokojných zákazníkov sme klasifikovali tých, ktorí ohodnotili komfort známkou 3 alebo menej. S komfortom počas dlhých letov bolo nespokojných 38% (9.34% + 12.33% + 16.32%) zákazníkov. "
   ]
  },
  {
   "cell_type": "code",
   "execution_count": null,
   "metadata": {},
   "outputs": [],
   "source": [
    "long_flights = df.loc[(df['Flight Distance'] > 843)]\n",
    "long_flights_discomfort = long_flights['Seat comfort']\n",
    "\n",
    "long_flights_discomfort.value_counts().sort_index().plot(kind='bar')\n",
    "\n",
    "discomfort = long_flights_discomfort.value_counts().sort_index()\n",
    "discomfort / sum(discomfort.values.tolist()) * 100"
   ]
  },
  {
   "cell_type": "code",
   "execution_count": null,
   "metadata": {},
   "outputs": [],
   "source": [
    "long_flights_discomfort = df.loc[(df['Flight Distance'] > 843) & (df['Seat comfort'] <= 3), 'satisfaction']\n",
    "long_flights_comfort = df.loc[(df['Flight Distance'] > 843) & (df['Seat comfort'] > 3), 'satisfaction']"
   ]
  },
  {
   "cell_type": "markdown",
   "metadata": {},
   "source": [
    "### Získavanie priorov spokojnosti s celkovým letom ak bol zákazník nespokojný s komfortom počas dlhého letu\n",
    "\n",
    "Ak bol zákazník počas dlhého letu nespokojný s komfortom, tak na 75.58% bol nespokojný aj s celkovým letom. Na druhej strane na 24.42% bol spokojný s celkovým letom.  "
   ]
  },
  {
   "cell_type": "code",
   "execution_count": null,
   "metadata": {},
   "outputs": [],
   "source": [
    "long_flights_discomfort.value_counts().sort_index().plot(kind='bar')\n",
    "\n",
    "discomfort = long_flights_discomfort.value_counts().sort_index()\n",
    "discomfort / sum(discomfort.values.tolist()) * 100"
   ]
  },
  {
   "cell_type": "markdown",
   "metadata": {},
   "source": [
    "### Získavanie priorov spokojnosti s celkovým letom ak bol zákazník spokojný s komfortom počas dlhého letu\n",
    "\n",
    "Ak bol zákazník počas dlhého letu spokojný s komfortom, tak na 71.55% bol spokojný aj s celkovým letom. Na druhej strane na 28.45% bol nespokojný s celkovým letom.  "
   ]
  },
  {
   "cell_type": "code",
   "execution_count": null,
   "metadata": {},
   "outputs": [],
   "source": [
    "long_flights_comfort.value_counts().sort_index().plot(kind='bar')\n",
    "\n",
    "comfort = long_flights_comfort.value_counts().sort_index()\n",
    "comfort / sum(comfort.values.tolist()) * 100"
   ]
  },
  {
   "cell_type": "markdown",
   "metadata": {},
   "source": [
    "![bajes 1](img/bajes2.png)\n",
    "\n",
    "## Otázky\n",
    "\n",
    "1. Aká je pravdepodobnosť, že zákazník je počas dlhého letu spokojný s komfortom a zároveň je spokojný s celkovým letom? Odpoveď: 44.36%  \n",
    "2. Aká je pravdepodobnosť, že zákazník je počas dlhého letu spokojný s komfortom, ak je nespokojný s celkovým letom? Odpoveď: 38.05% (V2/(V2+V4))"
   ]
  },
  {
   "cell_type": "markdown",
   "metadata": {},
   "source": [
    "## Bayes: výpočet pravdepodobnosti spokojnosti s celkovým letom na základe typu zákazníka a spokojnosti so službami počas letu. \n",
    "\n",
    "### Získavanie priorov pre typy zákazníkov\n",
    "\n",
    "Rozlišujeme dva typy zákazníkov. Tými sú tí loajálny a neloajálny. Loajálny zákazníci predstavujú 81.72% z celkového počtu zákazníkov. Neloajálny zákazníci predstavujú 18.28% z celkového počtu zákazníkov."
   ]
  },
  {
   "cell_type": "code",
   "execution_count": null,
   "metadata": {},
   "outputs": [],
   "source": [
    "customer_type = df['Customer Type']\n",
    "\n",
    "customer_type.value_counts().sort_index().plot(kind='bar')\n",
    "\n",
    "c_type = customer_type.value_counts().sort_index()\n",
    "c_type / sum(c_type.values.tolist()) * 100"
   ]
  },
  {
   "cell_type": "markdown",
   "metadata": {},
   "source": [
    "### Získavanie priorov pre spokojnosť loajálnych zákazníkov so službami počas letu\n",
    "\n",
    "Ako spokojných, loajálnych zákazníkov sme klasifikovali tých, ktorí ohodnotili služby počas letu známkou 4 alebo 5. So službami počas letu bolo spokojných 62.30% (35.96% + 26.34%) loajálnych zákazníkov. Ako nespokojných, loajálnych zákazníkov sme klasifikovali tých, ktorí ohodnotili službami počas letu známkou 3 alebo menej. So službami počas letu bolo nespokojných 37.70% (0.01% + 7.09% + 11.62% + 19%) loajálnych zákazníkov."
   ]
  },
  {
   "cell_type": "code",
   "execution_count": null,
   "metadata": {},
   "outputs": [],
   "source": [
    "loyal_customer = df.loc[(df['Customer Type'] == 'Loyal Customer')]\n",
    "loyal_customer_bad = loyal_customer['Inflight service']\n",
    "\n",
    "loyal_customer_bad.value_counts().sort_index().plot(kind='bar')\n",
    "\n",
    "loyal_bad = loyal_customer_bad.value_counts().sort_index()\n",
    "loyal_bad / sum(loyal_bad.values.tolist()) * 100"
   ]
  },
  {
   "cell_type": "markdown",
   "metadata": {},
   "source": [
    "### Získavanie priorov pre spokojnosť neloajálnych zákazníkov so službami počas letu\n",
    "\n",
    "Ako spokojných, neloajálnych zákazníkov sme klasifikovali tých, ktorí ohodnotili služby počas letu známkou 4 alebo 5. So službami počas letu bolo spokojných 64.22% (39.11% + 25.11%) neloajálnych zákazníkov. Ako nespokojných, neloajálnych zákazníkov sme klasifikovali tých, ktorí ohodnotili službami počas letu známkou 3 alebo menej. So službami počas letu bolo nespokojných 35.78% (5.59% + 8.34% + 21.85%) neloajálnych zákazníkov."
   ]
  },
  {
   "cell_type": "code",
   "execution_count": null,
   "metadata": {},
   "outputs": [],
   "source": [
    "disloyal_customer = df.loc[(df['Customer Type'] == 'disloyal Customer')]\n",
    "disloyal_customer_bad = disloyal_customer['Inflight service']\n",
    "\n",
    "disloyal_customer_bad.value_counts().sort_index().plot(kind='bar')\n",
    "\n",
    "disloyal_bad = disloyal_customer_bad.value_counts().sort_index()\n",
    "disloyal_bad / sum(disloyal_bad.values.tolist()) * 100"
   ]
  },
  {
   "cell_type": "code",
   "execution_count": null,
   "metadata": {},
   "outputs": [],
   "source": [
    "loyal_customer = df.loc[(df['Customer Type'] == 'Loyal Customer') & (df['Inflight service'] <= 3), 'satisfaction']\n",
    "disloyal_customer = df.loc[(df['Customer Type'] == 'disloyal Customer') & (df['Inflight service'] <= 3), 'satisfaction']"
   ]
  },
  {
   "cell_type": "markdown",
   "metadata": {},
   "source": [
    "### Získavanie priorov spokojnosti s celkovým letom ak bol loajálny zákazník nespokojný so službami počas letu\n",
    "\n",
    "Ak bol loajálny zákazník nespokojný so službami počas letu, tak na 70% bol nespokojný aj s celým letom. Na druhej strane na 30% bol spokojný s celkovým letom."
   ]
  },
  {
   "cell_type": "code",
   "execution_count": null,
   "metadata": {},
   "outputs": [],
   "source": [
    "loyal_customer.value_counts().sort_index().plot(kind='bar')\n",
    "\n",
    "loyal = loyal_customer.value_counts().sort_index()\n",
    "loyal / sum(loyal.values.tolist()) * 100"
   ]
  },
  {
   "cell_type": "markdown",
   "metadata": {},
   "source": [
    "### Získavanie priorov spokojnosti s celkovým letom ak bol neloajálny zákazník nespokojný so službami počas letu\n",
    "\n",
    "Ak bol neloajálny zákazník nespokojný so službami počas letu, tak na 89.12% bol nespokojný aj s celým letom. Na druhej strane na 10.88% bol spokojný s celkovým letom."
   ]
  },
  {
   "cell_type": "code",
   "execution_count": null,
   "metadata": {},
   "outputs": [],
   "source": [
    "disloyal_customer.value_counts().sort_index().plot(kind='bar')\n",
    "\n",
    "disloyal = disloyal_customer.value_counts().sort_index()\n",
    "disloyal / sum(disloyal.values.tolist()) * 100"
   ]
  },
  {
   "cell_type": "code",
   "execution_count": null,
   "metadata": {},
   "outputs": [],
   "source": [
    "loyal_customer = df.loc[(df['Customer Type'] == 'Loyal Customer') & (df['Inflight service'] > 3), 'satisfaction']\n",
    "disloyal_customer = df.loc[(df['Customer Type'] == 'disloyal Customer') & (df['Inflight service'] > 3), 'satisfaction']"
   ]
  },
  {
   "cell_type": "markdown",
   "metadata": {},
   "source": [
    "### Získavanie priorov spokojnosti s celkovým letom ak bol loajálny zákazník spokojný so službami počas letu\n",
    "\n",
    "Ak bol loajálny zákazník spokojný so službami počas letu, tak na 58.47% bol spokojný aj s celým letom. Na druhej strane na 41.53% bol nespokojný s celkovým letom."
   ]
  },
  {
   "cell_type": "code",
   "execution_count": null,
   "metadata": {},
   "outputs": [],
   "source": [
    "loyal_customer.value_counts().sort_index().plot(kind='bar')\n",
    "\n",
    "loyal = loyal_customer.value_counts().sort_index()\n",
    "loyal / sum(loyal.values.tolist()) * 100"
   ]
  },
  {
   "cell_type": "markdown",
   "metadata": {},
   "source": [
    "### Získavanie priorov spokojnosti s celkovým letom ak bol neloajálny zákazník spokojný so službami počas letu\n",
    "\n",
    "Ak bol neloajálny zákazník spokojný so službami počas letu, tak na 30.82% bol spokojný aj s celým letom. Na druhej strane na 69.18% bol nespokojný s celkovým letom."
   ]
  },
  {
   "cell_type": "code",
   "execution_count": null,
   "metadata": {},
   "outputs": [],
   "source": [
    "disloyal_customer.value_counts().sort_index().plot(kind='bar')\n",
    "\n",
    "disloyal = disloyal_customer.value_counts().sort_index()\n",
    "disloyal / sum(disloyal.values.tolist()) * 100"
   ]
  },
  {
   "cell_type": "markdown",
   "metadata": {},
   "source": [
    "![bajes2](img/bajes1.png)\n",
    "\n",
    "## Otázky\n",
    "\n",
    "1. Aká je pravdepodobnosť, že loajálny zákazník je spokojný so službami počas letu a zároveň je spokojný s celkovým letom? Odpoveď: 29.77% (V1)  \n",
    "2. Aká je pravdepodobnosť, že neloajálny zákazník je spokojný so službami počas letu, ak je nespokojný s celkovým letom? Odpoveď: 14.33% (V6/(V2+V4+V6+V8))"
   ]
  },
  {
   "cell_type": "markdown",
   "metadata": {},
   "source": [
    "## Belief Network: výpočet pravdepodobnosť spokojnosti s celkovým letom na základe spokojnosti s jedlom a nápojmi, a zábavou počas letu. \n",
    "\n",
    "### Získavanie priorov pre spokojnosť s jedlom a nápojmi\n",
    "\n",
    "Ako spokojných zákazníkov sme klasifikovali tých, ktorí ohodnotili jedlo a nápoje známkou 4 alebo 5. S jedlom a nápojmi bolo spokojných 44.90% (23.45% + 21.45%) zákazníkov. Ako nespokojných zákazníkov sme klasifikovali tých, ktorí ohodnotili jedlo a nápoje známkou 3 alebo menej. S jedlom a nápojmi bolo nespokojných 55.10% (0.1% + 12.36% + 21.16% + 21.47%) zákazníkov."
   ]
  },
  {
   "cell_type": "code",
   "execution_count": null,
   "metadata": {},
   "outputs": [],
   "source": [
    "food_drink = df['Food and drink']\n",
    "fd = food_drink.value_counts().sort_index()\n",
    "print(f'food_drink: \\n{fd / sum(fd.values.tolist()) * 100}')"
   ]
  },
  {
   "cell_type": "markdown",
   "metadata": {},
   "source": [
    "### Získavanie priorov pre spokojnosť so zábavou\n",
    "\n",
    "Ako spokojných zákazníkov sme klasifikovali tých, ktorí ohodnotili zábavu známkou 4 alebo 5. So zábavou bolo spokojných 52.59% (23.45% + 21.45%) zákazníkov. Ako nespokojných zákazníkov sme klasifikovali tých, ktorí ohodnotili zábavu známkou 3 alebo menej. So zábavou bolo nespokojných 47.41% (0.01% + 12.01% + 16.97% + 18.42%) zákazníkov."
   ]
  },
  {
   "cell_type": "code",
   "execution_count": null,
   "metadata": {},
   "outputs": [],
   "source": [
    "entertainment = df['Inflight entertainment']\n",
    "fd = entertainment.value_counts().sort_index()\n",
    "print(f'entertainment: \\n{fd / sum(fd.values.tolist()) * 100}')"
   ]
  },
  {
   "cell_type": "markdown",
   "metadata": {},
   "source": [
    "### Získavanie priorov ak bol zákazník spokojný s celkovým letom\n",
    "\n",
    "Ak bol zákazník spokojný s jedlom a nápojmi a zároveň bol spokojný so zábavou, tak na 56.54% bol spokojný s celkovým letom.  \n",
    "Ak bol zákazník spokojný s jedlom a nápojmi a zároveň nebol spokojný so zábavou, tak na 37.88% bol spokojný s celkovým letom.  \n",
    "Ak nebol zákazník spokojný s jedlom a nápojmi a zároveň bol spokojný so zábavou, tak na 79.36% bol spokojný s celkovým letom.  \n",
    "Ak nebol zákazník spokojný s jedlom a nápojmi a zároveň nebol spokojný so zábavou, tak na 18.86% bol spokojný s celkovým letom."
   ]
  },
  {
   "cell_type": "code",
   "execution_count": null,
   "metadata": {},
   "outputs": [],
   "source": [
    "food_entertainmet_good_good = df.loc[(df['Food and drink'] > 3) & (df['Inflight entertainment'] > 3), 'satisfaction']\n",
    "food_entertainmet_good_bad = df.loc[(df['Food and drink'] > 3) & (df['Inflight entertainment'] <= 3), 'satisfaction']\n",
    "food_entertainmet_bad_good = df.loc[(df['Food and drink'] <= 3) & (df['Inflight entertainment'] > 3), 'satisfaction']\n",
    "food_entertainmet_bad_bad = df.loc[(df['Food and drink'] <= 3) & (df['Inflight entertainment'] <= 3), 'satisfaction']"
   ]
  },
  {
   "cell_type": "code",
   "execution_count": null,
   "metadata": {},
   "outputs": [],
   "source": [
    "fd = food_entertainmet_good_good.value_counts().sort_index()\n",
    "print(f'food_entertainmet_good_good: \\n{fd / sum(fd.values.tolist()) * 100}')"
   ]
  },
  {
   "cell_type": "code",
   "execution_count": null,
   "metadata": {},
   "outputs": [],
   "source": [
    "fd = food_entertainmet_good_bad.value_counts().sort_index()\n",
    "print(f'food_entertainmet_good_bad: \\n{fd / sum(fd.values.tolist()) * 100}')"
   ]
  },
  {
   "cell_type": "code",
   "execution_count": null,
   "metadata": {},
   "outputs": [],
   "source": [
    "fd = food_entertainmet_bad_good.value_counts().sort_index()\n",
    "print(f'food_entertainmet_bad_good: \\n{fd / sum(fd.values.tolist()) * 100}')"
   ]
  },
  {
   "cell_type": "code",
   "execution_count": null,
   "metadata": {},
   "outputs": [],
   "source": [
    "fd = food_entertainmet_bad_bad.value_counts().sort_index()\n",
    "print(f'food_entertainmet_bad_bad: \\n{fd / sum(fd.values.tolist()) * 100}')"
   ]
  },
  {
   "cell_type": "markdown",
   "metadata": {},
   "source": [
    "![belief](img/belief.png)"
   ]
  }
 ],
 "metadata": {
  "kernelspec": {
   "display_name": "Python 3",
   "language": "python",
   "name": "python3"
  },
  "language_info": {
   "codemirror_mode": {
    "name": "ipython",
    "version": 3
   },
   "file_extension": ".py",
   "mimetype": "text/x-python",
   "name": "python",
   "nbconvert_exporter": "python",
   "pygments_lexer": "ipython3",
   "version": "3.8.3"
  }
 },
 "nbformat": 4,
 "nbformat_minor": 4
}
