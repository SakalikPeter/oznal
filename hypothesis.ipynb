{
 "metadata": {
  "language_info": {
   "codemirror_mode": {
    "name": "ipython",
    "version": 3
   },
   "file_extension": ".py",
   "mimetype": "text/x-python",
   "name": "python",
   "nbconvert_exporter": "python",
   "pygments_lexer": "ipython3",
   "version": "3.7.4"
  },
  "orig_nbformat": 2,
  "kernelspec": {
   "name": "python374jvsc74a57bd0d239f396a00a0993be849bdcdeca27a97b1d75ba89035ef6f69e8ae58644e387",
   "display_name": "Python 3.7.4 64-bit (conda)"
  }
 },
 "nbformat": 4,
 "nbformat_minor": 2,
 "cells": [
  {
   "source": [
    "# Hypotézy\n",
    "\n",
    "1. Loajálnym zákazníkom menej prekáža horší inflight service ako neloajálnym zákazníkom.\n",
    "2. Ľuďom nad 50 rokov menej prekáža zlé pokrytie wifi počas letu.\n",
    "3. Ak je pasažier počas dlhého letu nespokojný s komfortom, tak je nespokojný aj s celým letom.\n",
    "4. Počas dlhých letov je pasažierom ponúkané lepšie jedlo.\n",
    "5. Čím dlhšie meškanie odletu, tak tým dlhšie meškanie príletu (hypotéza so spojitými dátami)\n"
   ],
   "cell_type": "markdown",
   "metadata": {}
  },
  {
   "cell_type": "code",
   "execution_count": null,
   "metadata": {},
   "outputs": [],
   "source": [
    "import pandas as pd\n",
    "import seaborn as sns\n",
    "import scipy.stats as stats\n",
    "from scipy.stats import chisquare\n",
    "from scipy.stats import chi2_contingency\n",
    "from scipy.stats import chi2"
   ]
  },
  {
   "cell_type": "code",
   "execution_count": null,
   "metadata": {},
   "outputs": [],
   "source": [
    "df = pd.read_csv('dataset/train.csv', index_col='Unnamed: 0')\n",
    "df"
   ]
  },
  {
   "source": [
    "# 1. Loajálnym zákazníkom menej prekáža horší inflight service ako neloajálnym zákazníkom. "
   ],
   "cell_type": "markdown",
   "metadata": {}
  },
  {
   "cell_type": "code",
   "execution_count": null,
   "metadata": {},
   "outputs": [],
   "source": [
    "loyal_customer = df.loc[(df['Customer Type'] == 'Loyal Customer') & (df['Inflight service'] <= 3), 'satisfaction']\n",
    "disloyal_customer = df.loc[(df['Customer Type'] == 'disloyal Customer') & (df['Inflight service'] <= 3), 'satisfaction']"
   ]
  },
  {
   "cell_type": "code",
   "execution_count": null,
   "metadata": {},
   "outputs": [],
   "source": [
    "loyal_customer.value_counts().sort_index().plot(kind='bar')\n",
    "\n",
    "loyal = loyal_customer.value_counts().sort_index()\n",
    "\n",
    "jano = sum(loyal.values.tolist())\n",
    "loyal / jano * 100"
   ]
  },
  {
   "cell_type": "code",
   "execution_count": null,
   "metadata": {},
   "outputs": [],
   "source": [
    "disloyal_customer.value_counts().sort_index().plot(kind='bar')\n",
    "\n",
    "disloyal = disloyal_customer.value_counts().sort_index()\n",
    "\n",
    "jano = sum(disloyal.values.tolist())\n",
    "disloyal / jano * 100"
   ]
  },
  {
   "cell_type": "code",
   "execution_count": null,
   "metadata": {},
   "outputs": [],
   "source": [
    "chisquare(loyal.values.tolist(), f_exp=disloyal.values.tolist())"
   ]
  },
  {
   "source": [
    "# 2. Ľuďom nad 50 rokov prekáža zlé pokrytie wifi počas letu menej, ako ľuďom pod 50 rokov.\n",
    "\n",
    "### Alt. Ľuďom nad 50 rokov prekáža zlé pokrytie wifi počas letu rovnako/viac, ako ľuďom pod 50 rokov."
   ],
   "cell_type": "markdown",
   "metadata": {}
  },
  {
   "cell_type": "code",
   "execution_count": null,
   "metadata": {},
   "outputs": [],
   "source": [
    "older_than_fifty = df.loc[(df['Age'] >= 50) & (df['Inflight wifi service'] <= 3), 'satisfaction']\n",
    "younger_than_fifty = df.loc[(df['Age'] < 50) & (df['Inflight wifi service'] <= 3), 'satisfaction']"
   ]
  },
  {
   "cell_type": "code",
   "execution_count": null,
   "metadata": {},
   "outputs": [],
   "source": [
    "older_than_fifty.value_counts().plot(kind='bar')"
   ]
  },
  {
   "cell_type": "code",
   "execution_count": null,
   "metadata": {},
   "outputs": [],
   "source": [
    "younger_than_fifty.value_counts().plot(kind='bar')"
   ]
  },
  {
   "cell_type": "code",
   "execution_count": null,
   "metadata": {},
   "outputs": [],
   "source": [
    "older = older_than_fifty.value_counts().sort_index()\n",
    "\n",
    "jano = sum(older.values.tolist())\n",
    "older / jano * 100"
   ]
  },
  {
   "cell_type": "code",
   "execution_count": null,
   "metadata": {},
   "outputs": [],
   "source": [
    "younger = younger_than_fifty.value_counts().sort_index()\n",
    "\n",
    "jano = sum(younger.values.tolist())\n",
    "younger / jano * 100"
   ]
  },
  {
   "cell_type": "code",
   "execution_count": null,
   "metadata": {},
   "outputs": [],
   "source": [
    "chisquare(older.values.tolist(), f_exp=younger.values.tolist())"
   ]
  },
  {
   "source": [
    "# 3 Ak je pasažier počas dlhého letu spokojný s komfortom, tak je spokojný aj s celým letom.\n",
    "\n",
    "### Alt. Ak je pasažier počas dlhého letu nespokojný s komfortom, tak je spokojný aj s celým letom."
   ],
   "cell_type": "markdown",
   "metadata": {}
  },
  {
   "cell_type": "code",
   "execution_count": null,
   "metadata": {},
   "outputs": [],
   "source": [
    "long_flights_dissatisfied = df.loc[(df['Flight Distance'] > 843) & (df['Seat comfort'] <= 3), 'satisfaction']\n",
    "long_flights_satisfied = df.loc[(df['Flight Distance'] > 843) & (df['Seat comfort'] > 3), 'satisfaction']"
   ]
  },
  {
   "cell_type": "code",
   "execution_count": null,
   "metadata": {},
   "outputs": [],
   "source": [
    "long_flights_satisfied.value_counts().sort_index().plot(kind='bar')\n",
    "\n",
    "satisfied = long_flights_satisfied.value_counts().sort_index()\n",
    "\n",
    "jano = sum(satisfied.values.tolist())\n",
    "satisfied / jano * 100"
   ]
  },
  {
   "cell_type": "code",
   "execution_count": null,
   "metadata": {},
   "outputs": [],
   "source": [
    "long_flights_dissatisfied.value_counts().sort_index().plot(kind='bar')\n",
    "\n",
    "dissatisfied = long_flights_dissatisfied.value_counts().sort_index()\n",
    "\n",
    "jano = sum(dissatisfied.values.tolist())\n",
    "dissatisfied / jano * 100"
   ]
  },
  {
   "cell_type": "code",
   "execution_count": null,
   "metadata": {},
   "outputs": [],
   "source": [
    "print(satisfied.values.tolist(), dissatisfied.values.tolist())"
   ]
  },
  {
   "cell_type": "code",
   "execution_count": null,
   "metadata": {},
   "outputs": [],
   "source": [
    "contingecny_table = [satisfied.values.tolist(), dissatisfied.values.tolist()]\n",
    "\n",
    "stat, p, dof, expected = chi2_contingency(contingecny_table)\n",
    "\n",
    "prob = 0.95\n",
    "critical = chi2.ppf(prob, dof)\n",
    "print('probability=%.3f, critical=%.3f, stat=%.3f' % (prob, critical, stat))\n",
    "if abs(stat) >= critical:\n",
    "\tprint('Dependent (reject H0)')\n",
    "else:\n",
    "\tprint('Independent (fail to reject H0)')\n",
    "# interpret p-value\n",
    "alpha = 1.0 - prob\n",
    "print('significance=%.3f, p=%.3f' % (alpha, p))\n",
    "if p <= alpha:\n",
    "\tprint('Dependent (reject H0)')\n",
    "else:\n",
    "\tprint('Independent (fail to reject H0)')"
   ]
  },
  {
   "source": [
    "# 4 Počas dlhých letov je pasažierom ponúkané lepšie jedlo ako je ponúkané počas krátkych letov.\n",
    "\n",
    "### Alt. Počas dlhých letov je pasažierom ponúkané horšie/rovnako kvalitné jedlo ako je ponúkané počas krátkych letov."
   ],
   "cell_type": "markdown",
   "metadata": {}
  },
  {
   "cell_type": "code",
   "execution_count": null,
   "metadata": {},
   "outputs": [],
   "source": [
    "long_flights = df.loc[df['Flight Distance'] > 843, 'Food and drink']\n",
    "short_flights = df.loc[df['Flight Distance'] <= 843, 'Food and drink']"
   ]
  },
  {
   "cell_type": "code",
   "execution_count": null,
   "metadata": {},
   "outputs": [],
   "source": [
    "long_flights.value_counts().sort_index().plot(kind='bar')"
   ]
  },
  {
   "cell_type": "code",
   "execution_count": null,
   "metadata": {},
   "outputs": [],
   "source": [
    "short_flights.value_counts().sort_index().plot(kind='bar')"
   ]
  },
  {
   "cell_type": "code",
   "execution_count": null,
   "metadata": {},
   "outputs": [],
   "source": [
    "short = short_flights.value_counts().sort_index()\n",
    "\n",
    "jano = sum(short.values.tolist())\n",
    "short / jano * 100"
   ]
  },
  {
   "cell_type": "code",
   "execution_count": null,
   "metadata": {},
   "outputs": [],
   "source": [
    "long_f = long_flights.value_counts().sort_index()\n",
    "\n",
    "jano = sum(long_f.values.tolist())\n",
    "long_f / jano * 100"
   ]
  },
  {
   "cell_type": "code",
   "execution_count": null,
   "metadata": {},
   "outputs": [],
   "source": []
  },
  {
   "cell_type": "code",
   "execution_count": null,
   "metadata": {},
   "outputs": [],
   "source": [
    "chisquare(long_f.values.tolist(), f_exp=short.values.tolist())"
   ]
  },
  {
   "source": [
    "# 5 \n",
    "\n",
    "rozdiel dlzky meskania odletu pasazierov, ktory su spokojny s letom a pasazierov, ktory su nespokojny s letom je signifikantny"
   ],
   "cell_type": "markdown",
   "metadata": {}
  },
  {
   "cell_type": "code",
   "execution_count": null,
   "metadata": {},
   "outputs": [],
   "source": [
    "delay_dissatisfied = df.loc[(df['satisfaction'] == 'neutral or dissatisfied'), 'Departure Delay in Minutes']\n",
    "sns.distplot(delay_dissatisfied, bins=30)\n",
    "\n",
    "# stats.shapiro(delay_satisfied)"
   ]
  },
  {
   "cell_type": "code",
   "execution_count": null,
   "metadata": {},
   "outputs": [],
   "source": [
    "delay_satisfied = df.loc[(df['satisfaction'] == 'satisfied'), 'Departure Delay in Minutes']\n",
    "sns.distplot(delay_satisfied, bins=30)\n",
    "\n",
    "# delay_satisfied.hist()\n",
    "\n",
    "stats.shapiro(delay_satisfied)"
   ]
  },
  {
   "cell_type": "code",
   "execution_count": null,
   "metadata": {},
   "outputs": [],
   "source": [
    "stats.mannwhitneyu(delay_dissatisfied, delay_satisfied)"
   ]
  },
  {
   "cell_type": "code",
   "execution_count": null,
   "metadata": {},
   "outputs": [],
   "source": [
    "sns.barplot(x='satisfaction', y='Departure Delay in Minutes', data=df, \n",
    "            capsize=0.1, errwidth=2, palette=sns.color_palette(\"Blues\"))"
   ]
  }
 ]
}