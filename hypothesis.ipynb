{
 "metadata": {
  "language_info": {
   "codemirror_mode": {
    "name": "ipython",
    "version": 3
   },
   "file_extension": ".py",
   "mimetype": "text/x-python",
   "name": "python",
   "nbconvert_exporter": "python",
   "pygments_lexer": "ipython3",
   "version": 3
  },
  "orig_nbformat": 2
 },
 "nbformat": 4,
 "nbformat_minor": 2,
 "cells": [
  {
   "source": [
    "# Hypotézy\n",
    "\n",
    "1. Čím väčšie meškanie odletu/príletu, tým menšia spokojnosť pasažierov.\n",
    "2. Ľuďom nad 50 rokov menej prekáža zlé pokrytie wifi počas letu.\n",
    "3. Ak je pasažier počas dlhého letu nespokojný s komfortom, tak je nespokojný aj s celým letom.\n",
    "4. Počas dlhých letov je pasažierom ponúkané lepšie jedlo.\n"
   ],
   "cell_type": "markdown",
   "metadata": {}
  }
 ]
}