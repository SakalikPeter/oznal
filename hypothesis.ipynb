{
 "cells": [
  {
   "cell_type": "markdown",
   "metadata": {},
   "source": [
    "# Hypotézy\n",
    "\n",
    "1. Loajálnym zákazníkom menej prekáža horší inflight service ako neloajálnym zákazníkom.\n",
    "2. Ľuďom nad 50 rokov menej prekáža zlé pokrytie wifi počas letu.\n",
    "3. Ak je pasažier počas dlhého letu nespokojný s komfortom, tak je nespokojný aj s celým letom.\n",
    "4. Počas dlhých letov je pasažierom ponúkané lepšie jedlo.\n",
    "5. Čím dlhšie meškanie odletu, tak tým dlhšie meškanie príletu (hypotéza so spojitými dátami)\n"
   ]
  },
  {
   "cell_type": "code",
   "execution_count": null,
   "metadata": {},
   "outputs": [],
   "source": [
    "import pandas as pd\n",
    "import seaborn as sns\n",
    "import scipy.stats as stats\n",
    "import random\n",
    "from scipy.stats import chisquare\n",
    "from scipy.stats import chi2_contingency\n",
    "from scipy.stats import chi2\n",
    "import numpy as np\n",
    "\n",
    "from sklearn.model_selection import train_test_split\n",
    "from sklearn.linear_model import LogisticRegression\n",
    "from sklearn.metrics import accuracy_score\n",
    "from sklearn import tree\n",
    "from sklearn.ensemble import RandomForestClassifier"
   ]
  },
  {
   "cell_type": "code",
   "execution_count": null,
   "metadata": {},
   "outputs": [],
   "source": [
    "df = pd.read_csv('dataset/final_df.csv', index_col='Unnamed: 0')\n",
    "\n",
    "train_df, test_df = train_test_split(df, test_size=0.2, shuffle=True)"
   ]
  },
  {
   "cell_type": "code",
   "execution_count": null,
   "metadata": {
    "tags": []
   },
   "outputs": [],
   "source": [
    "def tests(x, y):\n",
    "    for _ in range(20):\n",
    "        x = random.sample(x, 100)\n",
    "        y = random.sample(y, 100)\n",
    "\n",
    "        print(chisquare(x, f_exp=y))"
   ]
  },
  {
   "cell_type": "code",
   "execution_count": null,
   "metadata": {},
   "outputs": [],
   "source": [
    "def log_reg(X, y):\n",
    "    clf = LogisticRegression(random_state=0).fit(X, y)\n",
    "    return clf\n",
    "\n",
    "def dec_tree(X, y):\n",
    "    clf = tree.DecisionTreeClassifier().fit(X, y)\n",
    "    return clf\n",
    "\n",
    "def rand_forest(X, y):\n",
    "    clf = RandomForestClassifier(max_depth=3, random_state=0).fit(X, y)\n",
    "    return clf\n",
    "\n",
    "def acc(model, X, y_true):\n",
    "    y_pred = model.predict(X)\n",
    "    print(accuracy_score(y_true, y_pred))\n",
    "\n",
    "def one_hot(data, col):\n",
    "    enc = pd.get_dummies(data[col])\n",
    "    data = data.drop(col,axis = 1)\n",
    "    data = data.join(enc)\n",
    "    return data"
   ]
  },
  {
   "cell_type": "markdown",
   "metadata": {},
   "source": [
    "## 1. Loajálnym zákazníkom prekáža horší inflight service rovnako alebo viac ako neloajálnym zákazníkom\n",
    "\n",
    "Na základe dát chceme zistiť, ako ovplyvňuje kvalita služieb počas letu celkovú spokojnosť loajálnych a neloajálnych zákazníkov. Náš predpoklad je taký, že horšia kvalita služieb počas letu vadí loajálnym zákazníkov rovnako alebo viac ako neloajálnym. Na základe predpokladu sme si stanovili nulovú a alternativnu hypotézu.\n",
    "\n",
    "### Nul. Loajálnym zákazníkom prekáža horší inflight service rovnako alebo viac ako neloajálnym zákazníkom.\n",
    "\n",
    "### Alt. Loajálnym zákazníkom prekáža horší inflight service menej ako neloajálnym zákazníkom.\n",
    "\n",
    "#### Postup pri overovaní hypotézy\n",
    "\n",
    "Na začiatok sme vyselektovali spokojnosť loajálnych a neloajálnych zákazníkov, ktorí neboli spokojní so službami počas letu. Ako nespokojných sme označili všetkých pasažierov, ktorí ohodnotili služby počas letu 3 a menej na škále od 1 do 5. Pričom 1 značí najmenšiu spokojnosť.\n",
    "\n",
    "Následne sme si vykreslili stĺpcové grafy, na ktorých sme zobrazili pomer celkovej spokojnosti s letom zákazníkov, ktorí neboli spokojní so službami počas letu. \n",
    "\n",
    "Prvý graf znázorňuje loajálnych zákazníkov. Vidíme v ňom, že až 69.9% loajálnych zákazníkov, ktorí boli nespokojní so službami počas letu, boli celkovo nespokojní aj s letom.\n",
    "\n",
    "Druhý graf znázorňuje neloajálnych zákazníkov. Vidíme v ňom, že až dokonca 89.1% neloajálnych zákazníkov, ktorí boli nespokojní so službami počas letu, boli celkovo nespokojní aj s letom.\n",
    "\n",
    "Už z grafov môžeme predpokladať, že neloajálni zákazníci sú menej tolerantní a viacej im vadia zlé služby počas letu.\n",
    "\n",
    "Ďalej sme na overenie nášho predpokladu vykonali chisquare test. Tento test sme vybrali, pretože dáta, s ktorými pracujeme sú kategorické. Výsledná p-hodnota tohto testu bola menšia ako 0.001, čiže pravdepodobnosť chyby prvého rádu je menšia ako jedno promile. Tým pádom na základe chisquare testu odmietame nulovú hypotézu a akceptujeme alternativnu hypotézu.\n",
    "\n",
    "Na koniec sme na vybraných dátach natrénovali štatistický model (Random Forest), ktorý mal na základe typu zákazníka a spokojnosti so službami počas letu určiť celkovú spokojnosť zákazníka s letom. Na testovacej množine sme dosiahli úspešnosť 64.98%. "
   ]
  },
  {
   "cell_type": "code",
   "execution_count": null,
   "metadata": {},
   "outputs": [],
   "source": [
    "loyal_customer = df.loc[(df['Customer Type'] == 'Loyal Customer') & (df['Inflight service'] <= 3), 'satisfaction']\n",
    "disloyal_customer = df.loc[(df['Customer Type'] == 'disloyal Customer') & (df['Inflight service'] <= 3), 'satisfaction']"
   ]
  },
  {
   "cell_type": "code",
   "execution_count": null,
   "metadata": {},
   "outputs": [],
   "source": [
    "loyal_customer.value_counts().sort_index().plot(kind='bar')\n",
    "\n",
    "loyal = loyal_customer.value_counts().sort_index()\n",
    "loyal / sum(loyal.values.tolist()) * 100"
   ]
  },
  {
   "cell_type": "code",
   "execution_count": null,
   "metadata": {},
   "outputs": [],
   "source": [
    "disloyal_customer.value_counts().sort_index().plot(kind='bar')\n",
    "\n",
    "disloyal = disloyal_customer.value_counts().sort_index()\n",
    "disloyal / sum(disloyal.values.tolist()) * 100"
   ]
  },
  {
   "cell_type": "code",
   "execution_count": null,
   "metadata": {},
   "outputs": [],
   "source": [
    "chisquare(loyal.values.tolist(), f_exp=disloyal.values.tolist())"
   ]
  },
  {
   "cell_type": "code",
   "execution_count": null,
   "metadata": {},
   "outputs": [],
   "source": [
    "train_X = train_df[['Customer Type', 'Inflight service']]\n",
    "train_y = train_df['satisfaction']\n",
    "\n",
    "test_X = test_df[['Customer Type', 'Inflight service']]\n",
    "test_y = test_df['satisfaction']\n",
    "\n",
    "train_X = one_hot(train_X, 'Customer Type')\n",
    "test_X = one_hot(test_X, 'Customer Type')\n",
    "\n",
    "model = rand_forest(train_X, train_y)\n",
    "acc(model, test_X, test_y)"
   ]
  },
  {
   "cell_type": "markdown",
   "metadata": {},
   "source": [
    "## 2. Ľuďom nad 50 rokov menej prekáža zlá wifi počas letu\n",
    "\n",
    "### Nul. ľuďom nad 50 rokov prekáža zlé pokrytie wifi rovnako alebo viac ako ľuďom pod 50 rokov.\n",
    "\n",
    "### Alt. Ľuďom nad 50 rokov prekáža zlé pokrytie wifi počas letu menej ako ľuďom pod 50 rokov.\n",
    "Na základe chisquare testu akceptujeme alternativnu hypotezu."
   ]
  },
  {
   "cell_type": "code",
   "execution_count": null,
   "metadata": {},
   "outputs": [],
   "source": [
    "older_than_fifty = df.loc[(df['Age'] >= 50) & (df['Inflight wifi service'] <= 3), 'satisfaction']\n",
    "younger_than_fifty = df.loc[(df['Age'] < 50) & (df['Inflight wifi service'] <= 3), 'satisfaction']"
   ]
  },
  {
   "cell_type": "code",
   "execution_count": null,
   "metadata": {},
   "outputs": [],
   "source": [
    "older_than_fifty.value_counts().plot(kind='bar')\n",
    "\n",
    "older = older_than_fifty.value_counts().sort_index()\n",
    "older / sum(older.values.tolist()) * 100"
   ]
  },
  {
   "cell_type": "code",
   "execution_count": null,
   "metadata": {},
   "outputs": [],
   "source": [
    "younger_than_fifty.value_counts().plot(kind='bar')\n",
    "\n",
    "younger = younger_than_fifty.value_counts().sort_index()\n",
    "younger / sum(younger.values.tolist()) * 100"
   ]
  },
  {
   "cell_type": "code",
   "execution_count": null,
   "metadata": {},
   "outputs": [],
   "source": [
    "chisquare(older.values.tolist(), f_exp=younger.values.tolist())"
   ]
  },
  {
   "cell_type": "code",
   "execution_count": null,
   "metadata": {},
   "outputs": [],
   "source": [
    "train_X = train_df[['Age', 'Inflight wifi service']]\n",
    "train_y = train_df['satisfaction']\n",
    "\n",
    "test_X = test_df[['Age', 'Inflight wifi service']]\n",
    "test_y = test_df['satisfaction']\n",
    "\n",
    "model = rand_forest(train_X, train_y)\n",
    "acc(model, test_X, test_y)\n",
    "\n",
    "model = dec_tree(train_X, train_y)\n",
    "acc(model, test_X, test_y)\n",
    "\n",
    "model = log_reg(train_X, train_y)\n",
    "acc(model, test_X, test_y)"
   ]
  },
  {
   "cell_type": "markdown",
   "metadata": {},
   "source": [
    "## 3 Ak je pasažier počas dlhého letu spokojný s komfortom, tak je spokojný aj s celým letom.\n",
    "\n",
    "### Nul. Pasažieri, ktorí sú počas dlhého letu nespokojní s komfortom, tak sú spokojní s celým letom rovnako alebo viac ako tí čo sú spokojní s komfortom.\n",
    "\n",
    "### Alt. Pasažieri, ktorí sú počas dlhého letu spokojní s komfortom, tak sú spokojní s celým letom viac ako tí čo nie sú spokojní s komfortom.\n",
    "\n",
    "Na základe chisquare testu akceptujeme alternativnu hypotezu."
   ]
  },
  {
   "cell_type": "code",
   "execution_count": null,
   "metadata": {},
   "outputs": [],
   "source": [
    "long_flights_discomfort = df.loc[(df['Flight Distance'] > 843) & (df['Seat comfort'] <= 3), 'satisfaction']\n",
    "long_flights_comfort = df.loc[(df['Flight Distance'] > 843) & (df['Seat comfort'] > 3), 'satisfaction']"
   ]
  },
  {
   "cell_type": "code",
   "execution_count": null,
   "metadata": {},
   "outputs": [],
   "source": [
    "long_flights_discomfort.value_counts().sort_index().plot(kind='bar')\n",
    "\n",
    "discomfort = long_flights_discomfort.value_counts().sort_index()\n",
    "discomfort / sum(discomfort.values.tolist()) * 100"
   ]
  },
  {
   "cell_type": "code",
   "execution_count": null,
   "metadata": {},
   "outputs": [],
   "source": [
    "long_flights_comfort.value_counts().sort_index().plot(kind='bar')\n",
    "\n",
    "comfort = long_flights_comfort.value_counts().sort_index()\n",
    "comfort / sum(comfort.values.tolist()) * 100"
   ]
  },
  {
   "cell_type": "code",
   "execution_count": null,
   "metadata": {},
   "outputs": [],
   "source": [
    "chisquare(comfort.values.tolist(), f_exp=discomfort.values.tolist())"
   ]
  },
  {
   "cell_type": "code",
   "execution_count": null,
   "metadata": {},
   "outputs": [],
   "source": [
    "train_X = train_df[['Flight Distance', 'Seat comfort']]\n",
    "train_y = train_df['satisfaction']\n",
    "\n",
    "test_X = test_df[['Flight Distance', 'Seat comfort']]\n",
    "test_y = test_df['satisfaction']\n",
    "\n",
    "model = rand_forest(train_X, train_y)\n",
    "acc(model, test_X, test_y)\n",
    "\n",
    "model = dec_tree(train_X, train_y)\n",
    "acc(model, test_X, test_y)\n",
    "\n",
    "model = log_reg(train_X, train_y)\n",
    "acc(model, test_X, test_y)"
   ]
  },
  {
   "cell_type": "markdown",
   "metadata": {},
   "source": [
    "## 4 Počas dlhých letov je pasažierom ponúkané lepšie jedlo ako je ponúkané počas krátkych letov.\n",
    "Za dlhé lety sú považované tie, ktorých vzdialenosť je väčšia ako medián.\n",
    "\n",
    "### Nul. Počas dlhých letov je pasažierom ponúkané horšie/rovnako kvalitné jedlo ako je ponúkané počas krátkych letov.\n",
    "\n",
    "### Alt. Počas dlhých letov je pasažierom ponúkané kvalitnejšie jedlo ako je ponúkané počas krátkych letov.\n",
    "\n",
    "Na základe chisquare testu akceptujeme alternativnu hypotezu."
   ]
  },
  {
   "cell_type": "code",
   "execution_count": null,
   "metadata": {},
   "outputs": [],
   "source": [
    "long_flights = df.loc[df['Flight Distance'] > 843, 'Food and drink']\n",
    "short_flights = df.loc[df['Flight Distance'] <= 843, 'Food and drink']"
   ]
  },
  {
   "cell_type": "code",
   "execution_count": null,
   "metadata": {},
   "outputs": [],
   "source": [
    "long_flights.value_counts().sort_index().plot(kind='bar')\n",
    "\n",
    "long_f = long_flights.value_counts().sort_index()\n",
    "long_f / sum(long_f.values.tolist()) * 100"
   ]
  },
  {
   "cell_type": "code",
   "execution_count": null,
   "metadata": {},
   "outputs": [],
   "source": [
    "short_flights.value_counts().sort_index().plot(kind='bar')\n",
    "\n",
    "short = short_flights.value_counts().sort_index()\n",
    "short / sum(short.values.tolist()) * 100"
   ]
  },
  {
   "cell_type": "code",
   "execution_count": null,
   "metadata": {},
   "outputs": [],
   "source": [
    "chisquare(long_f.values.tolist(), f_exp=short.values.tolist())"
   ]
  },
  {
   "cell_type": "code",
   "execution_count": null,
   "metadata": {},
   "outputs": [],
   "source": [
    "train_X = train_df[['Flight Distance', 'Food and drink']]\n",
    "train_y = train_df['satisfaction']\n",
    "\n",
    "test_X = test_df[['Flight Distance', 'Food and drink']]\n",
    "test_y = test_df['satisfaction']\n",
    "\n",
    "model = rand_forest(train_X, train_y)\n",
    "acc(model, test_X, test_y)\n",
    "\n",
    "model = dec_tree(train_X, train_y)\n",
    "acc(model, test_X, test_y)\n",
    "\n",
    "model = log_reg(train_X, train_y)\n",
    "acc(model, test_X, test_y)"
   ]
  },
  {
   "cell_type": "markdown",
   "metadata": {},
   "source": [
    "## 5 Rozdiel dĺžky meškania odletu pasažierov, ktorí sú spokojní s letom a pasažierov, ktorí sú nespokojní s letom je signifikantný.\n",
    "\n",
    "### Nul Rozdiel dĺžky meškania odletu pasažierov, ktorí sú spokojní s letom a tých, ktorých sú nespokojní s letom nie je signigikantný.\n",
    "\n",
    "### Alt Rozdiel dĺžky meškania odletu pasažierov, ktorí sú spokojní s letom a tých, ktorých sú nespokojní s letom je signigikantný.\n",
    "\n",
    "Na základe Mann Whitney U-testu akceptujeme nulovú hypotézu."
   ]
  },
  {
   "cell_type": "code",
   "execution_count": null,
   "metadata": {},
   "outputs": [],
   "source": [
    "delay_dissatisfied = df.loc[(df['satisfaction'] == 'neutral or dissatisfied'), 'Departure Delay in Minutes']\n",
    "sns.distplot(delay_dissatisfied, bins=30)\n",
    "\n",
    "stats.shapiro(delay_dissatisfied)"
   ]
  },
  {
   "cell_type": "code",
   "execution_count": null,
   "metadata": {},
   "outputs": [],
   "source": [
    "delay_satisfied = df.loc[(df['satisfaction'] == 'satisfied'), 'Departure Delay in Minutes']\n",
    "sns.distplot(delay_satisfied, bins=30)\n",
    "\n",
    "stats.shapiro(delay_satisfied)"
   ]
  },
  {
   "cell_type": "code",
   "execution_count": null,
   "metadata": {},
   "outputs": [],
   "source": [
    "for _ in range(20):\n",
    "    x = random.sample(delay_dissatisfied.tolist(), 100)\n",
    "    y = random.sample(delay_satisfied.tolist(), 100)\n",
    "\n",
    "    print(stats.mannwhitneyu(x, y))\n"
   ]
  },
  {
   "cell_type": "code",
   "execution_count": null,
   "metadata": {},
   "outputs": [],
   "source": [
    "train_X = train_df[['Departure Delay in Minutes']]\n",
    "train_y = train_df['satisfaction']\n",
    "\n",
    "test_X = test_df[['Departure Delay in Minutes']]\n",
    "\n",
    "\n",
    "test_y = test_df['satisfaction']\n",
    "\n",
    "model = rand_forest(train_X, train_y)\n",
    "acc(model, test_X, test_y)\n",
    "\n",
    "model = dec_tree(train_X, train_y)\n",
    "acc(model, test_X, test_y)\n",
    "\n",
    "model = log_reg(train_X, train_y)\n",
    "acc(model, test_X, test_y)"
   ]
  },
  {
   "cell_type": "code",
   "execution_count": null,
   "metadata": {},
   "outputs": [],
   "source": []
  }
 ],
 "metadata": {
  "kernelspec": {
   "display_name": "Python 3",
   "language": "python",
   "name": "python3"
  },
  "language_info": {
   "codemirror_mode": {
    "name": "ipython",
    "version": 3
   },
   "file_extension": ".py",
   "mimetype": "text/x-python",
   "name": "python",
   "nbconvert_exporter": "python",
   "pygments_lexer": "ipython3",
   "version": "3.8.3"
  }
 },
 "nbformat": 4,
 "nbformat_minor": 4
}